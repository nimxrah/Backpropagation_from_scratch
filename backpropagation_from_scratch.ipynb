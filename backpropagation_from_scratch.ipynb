{
  "nbformat": 4,
  "nbformat_minor": 0,
  "metadata": {
    "colab": {
      "provenance": []
    },
    "kernelspec": {
      "name": "python3",
      "display_name": "Python 3"
    },
    "language_info": {
      "name": "python"
    }
  },
  "cells": [
    {
      "cell_type": "code",
      "execution_count": null,
      "metadata": {
        "id": "7bDLirG1AkDU"
      },
      "outputs": [],
      "source": [
        "import math\n",
        "import numpy as np\n",
        "import matplotlib.pyplot as plt\n",
        "%matplotlib inline"
      ]
    },
    {
      "cell_type": "code",
      "source": [
        "def f(x):\n",
        "  return 3*x**2 - 4*x + 5"
      ],
      "metadata": {
        "id": "NWZtoU9vDQj4"
      },
      "execution_count": null,
      "outputs": []
    },
    {
      "cell_type": "code",
      "source": [
        "f(3.0)"
      ],
      "metadata": {
        "colab": {
          "base_uri": "https://localhost:8080/"
        },
        "id": "ah-kSeSpDZ9O",
        "outputId": "6bde503c-85fc-42ea-9c11-e8440463401b"
      },
      "execution_count": null,
      "outputs": [
        {
          "output_type": "execute_result",
          "data": {
            "text/plain": [
              "20.0"
            ]
          },
          "metadata": {},
          "execution_count": 11
        }
      ]
    },
    {
      "cell_type": "code",
      "source": [
        "xs = np.arange(-5, 5, 0.25)\n",
        "ys = f(xs)\n",
        "plt.plot(xs, ys)"
      ],
      "metadata": {
        "colab": {
          "base_uri": "https://localhost:8080/",
          "height": 447
        },
        "id": "WqN_sTdGDegJ",
        "outputId": "20961ad7-7e03-4474-e830-620d05d1058c"
      },
      "execution_count": null,
      "outputs": [
        {
          "output_type": "execute_result",
          "data": {
            "text/plain": [
              "[<matplotlib.lines.Line2D at 0x7e1d8157a5d0>]"
            ]
          },
          "metadata": {},
          "execution_count": 12
        },
        {
          "output_type": "display_data",
          "data": {
            "text/plain": [
              "<Figure size 640x480 with 1 Axes>"
            ],
            "image/png": "[encoded data removed]"
          },
          "metadata": {}
        }
      ]
    },
    {
      "cell_type": "code",
      "source": [
        "h =0.000001\n",
        "x = 2/3\n",
        "(f(x+h)-f(x))/h"
      ],
      "metadata": {
        "colab": {
          "base_uri": "https://localhost:8080/"
        },
        "id": "K4lYIzFnGbRH",
        "outputId": "899b232e-3007-4d28-f274-07259ed4e841"
      },
      "execution_count": null,
      "outputs": [
        {
          "output_type": "execute_result",
          "data": {
            "text/plain": [
              "2.999378523327323e-06"
            ]
          },
          "metadata": {},
          "execution_count": 13
        }
      ]
    },
    {
      "cell_type": "code",
      "source": [
        "a = 2.0\n",
        "b = -3.0\n",
        "c = 10.0\n",
        "d = a * b + c\n",
        "print(d)"
      ],
      "metadata": {
        "id": "vwQc-uvqGtQk",
        "colab": {
          "base_uri": "https://localhost:8080/"
        },
        "outputId": "84ff4bff-eaaa-4a0d-a1b1-a7425e16c2b5"
      },
      "execution_count": null,
      "outputs": [
        {
          "output_type": "stream",
          "name": "stdout",
          "text": [
            "4.0\n"
          ]
        }
      ]
    },
    {
      "cell_type": "code",
      "source": [
        "h = 0.0001\n",
        "\n",
        "a = 2.0\n",
        "b = -3.0\n",
        "c = 10.0\n",
        "\n",
        "d1 = a * b + c\n",
        "c += h\n",
        "d2 = a * b + c\n",
        "\n",
        "print('d1', d1)\n",
        "print('d2', d2)\n",
        "\n",
        "slope = (d2-d1)/h\n",
        "print(slope)\n"
      ],
      "metadata": {
        "colab": {
          "base_uri": "https://localhost:8080/"
        },
        "id": "RtENbQ5oTZu_",
        "outputId": "fb9e9b7d-c341-4aa6-ad96-34ba2e5478ed"
      },
      "execution_count": null,
      "outputs": [
        {
          "output_type": "stream",
          "name": "stdout",
          "text": [
            "d1 4.0\n",
            "d2 4.0001\n",
            "0.9999999999976694\n"
          ]
        }
      ]
    },
    {
      "cell_type": "code",
      "source": [
        "class Value:\n",
        "\n",
        "  def __init__(self, data, _children=(), _op='', label=''):\n",
        "    self.data = data\n",
        "    self.grad = 0.0\n",
        "    self._backward = lambda: None\n",
        "    self._prev = set(_children)\n",
        "    self._op = _op\n",
        "    self.label = label\n",
        "\n",
        "  def __repr__(self):\n",
        "    return f\"Value(data={self.data})\"\n",
        "\n",
        "  def __add__(self, other):\n",
        "    other = other if isinstance(other, Value) else Value(other)\n",
        "    out = Value(self.data + other.data, (self, other), '+')\n",
        "\n",
        "    def _backward():\n",
        "      self.grad += 1.0 * out.grad\n",
        "      other.grad += 1.0 * out.grad\n",
        "    out._backward = _backward\n",
        "\n",
        "    return out\n",
        "\n",
        "  def __mul__(self, other):\n",
        "    other = other if isinstance(other, Value) else Value(other)\n",
        "    out = Value(self.data * other.data, (self, other), '*')\n",
        "\n",
        "    def _backward():\n",
        "      self.grad += other.data * out.grad\n",
        "      other.grad += self.data * out.grad\n",
        "    out._backward = _backward\n",
        "\n",
        "    return out\n",
        "\n",
        "  def __pow__(self, other):\n",
        "    assert isinstance(other, (int, float)), \"only supporting int/float powers for now\"\n",
        "    out = Value(self.data**other, (self,), f'**{other}')\n",
        "\n",
        "    def _backward():\n",
        "        self.grad += other * (self.data ** (other - 1)) * out.grad\n",
        "    out._backward = _backward\n",
        "\n",
        "    return out\n",
        "\n",
        "  def __rmul__(self, other): # other * self\n",
        "    return self * other\n",
        "\n",
        "  def __truediv__(self, other): # self / other\n",
        "    return self * other**-1\n",
        "\n",
        "  def __neg__(self): # -self\n",
        "    return self * -1\n",
        "\n",
        "  def __sub__(self, other): # self - other\n",
        "    return self + (-other)\n",
        "\n",
        "  def __radd__(self, other): # other + self\n",
        "    return self + other\n",
        "\n",
        "  def tanh(self):\n",
        "    x = self.data\n",
        "    t = (math.exp(2*x) - 1)/(math.exp(2*x) + 1)\n",
        "    out = Value(t, (self, ), 'tanh')\n",
        "\n",
        "    def _backward():\n",
        "      self.grad += (1 - t**2) * out.grad\n",
        "    out._backward = _backward\n",
        "\n",
        "    return out\n",
        "\n",
        "  def exp(self):\n",
        "    x = self.data\n",
        "    out = Value(math.exp(x), (self, ), 'exp')\n",
        "\n",
        "    def _backward():\n",
        "      self.grad += out.data * out.grad # NOTE: in the video I incorrectly used = instead of +=. Fixed here.\n",
        "    out._backward = _backward\n",
        "\n",
        "    return out\n",
        "\n",
        "\n",
        "  def backward(self):\n",
        "\n",
        "    topo = []\n",
        "    visited = set()\n",
        "    def build_topo(v):\n",
        "      if v not in visited:\n",
        "        visited.add(v)\n",
        "        for child in v._prev:\n",
        "          build_topo(child)\n",
        "        topo.append(v)\n",
        "    build_topo(self)\n",
        "\n",
        "    self.grad = 1.0\n",
        "    for node in reversed(topo):\n",
        "      node._backward()"
      ],
      "metadata": {
        "id": "vIjZV5cLT-LN"
      },
      "execution_count": null,
      "outputs": []
    },
    {
      "cell_type": "code",
      "source": [
        "from graphviz import Digraph\n",
        "\n",
        "def trace(root):\n",
        "  # builds a set of all nodes and edges in a graph\n",
        "  nodes, edges = set(), set()\n",
        "  def build(v):\n",
        "    if v not in nodes:\n",
        "      nodes.add(v)\n",
        "      for child in v._prev:\n",
        "        edges.add((child, v))\n",
        "        build(child)\n",
        "  build(root)\n",
        "  return nodes, edges\n",
        "\n",
        "def draw_dot(root):\n",
        "  dot = Digraph(format='svg', graph_attr={'rankdir': 'LR'}) # LR = left to right\n",
        "\n",
        "  nodes, edges = trace(root)\n",
        "  for n in nodes:\n",
        "    uid = str(id(n))\n",
        "    # for any value in the graph, create a rectangular ('record') node for it\n",
        "    dot.node(name = uid, label = \"{ %s | data %.4f | grad %.4f }\" % (n.label, n.data, n.grad), shape='record')\n",
        "    if n._op:\n",
        "      # if this value is a result of some operation, create an op node for it\n",
        "      dot.node(name = uid + n._op, label = n._op)\n",
        "      # and connect this node to it\n",
        "      dot.edge(uid + n._op, uid)\n",
        "\n",
        "  for n1, n2 in edges:\n",
        "    # connect n1 to the op node of n2\n",
        "    dot.edge(str(id(n1)), str(id(n2)) + n2._op)\n",
        "\n",
        "  return dot"
      ],
      "metadata": {
        "id": "YCgJ0F7h1HYe"
      },
      "execution_count": null,
      "outputs": []
    },
    {
      "cell_type": "code",
      "source": [
        "L.backward()\n",
        "draw_dot(L)"
      ],
      "metadata": {
        "colab": {
          "base_uri": "https://localhost:8080/",
          "height": 212
        },
        "id": "xYhTUkoC1Lkd",
        "outputId": "9744be9e-cca3-4a2b-86eb-d63efab09a8d"
      },
      "execution_count": null,
      "outputs": [
        {
          "output_type": "execute_result",
          "data": {
            "image/svg+xml": "<?xml version=\"1.0\" encoding=\"UTF-8\" standalone=\"no\"?>\n<!DOCTYPE svg PUBLIC \"-//W3C//DTD SVG 1.1//EN\"\n \"http://www.w3.org/Graphics/SVG/1.1/DTD/svg11.dtd\">\n<!-- Generated by graphviz version 2.43.0 (0)\n -->\n<!-- Title: %3 Pages: 1 -->\n<svg width=\"1157pt\" height=\"128pt\"\n viewBox=\"0.00 0.00 1157.00 128.00\" xmlns=\"http://www.w3.org/2000/svg\" xmlns:xlink=\"http://www.w3.org/1999/xlink\">\n<g id=\"graph0\" class=\"graph\" transform=\"scale(1 1) rotate(0) translate(4 124)\">\n<title>%3</title>\n<polygon fill=\"white\" stroke=\"transparent\" points=\"-4,4 -4,-124 1153,-124 1153,4 -4,4\"/>\n<!-- 138665230463504 -->\n<g id=\"node1\" class=\"node\">\n<title>138665230463504</title>\n<polygon fill=\"none\" stroke=\"black\" points=\"642,-27.5 642,-63.5 831,-63.5 831,-27.5 642,-27.5\"/>\n<text text-anchor=\"middle\" x=\"653.5\" y=\"-41.8\" font-family=\"Times,serif\" font-size=\"14.00\">d</text>\n<polyline fill=\"none\" stroke=\"black\" points=\"665,-27.5 665,-63.5 \"/>\n<text text-anchor=\"middle\" x=\"705\" y=\"-41.8\" font-family=\"Times,serif\" font-size=\"14.00\">data 4.0000</text>\n<polyline fill=\"none\" stroke=\"black\" points=\"745,-27.5 745,-63.5 \"/>\n<text text-anchor=\"middle\" x=\"788\" y=\"-41.8\" font-family=\"Times,serif\" font-size=\"14.00\">grad &#45;2.0000</text>\n</g>\n<!-- 138665192944208* -->\n<g id=\"node4\" class=\"node\">\n<title>138665192944208*</title>\n<ellipse fill=\"none\" stroke=\"black\" cx=\"894\" cy=\"-72.5\" rx=\"27\" ry=\"18\"/>\n<text text-anchor=\"middle\" x=\"894\" y=\"-68.8\" font-family=\"Times,serif\" font-size=\"14.00\">*</text>\n</g>\n<!-- 138665230463504&#45;&gt;138665192944208* -->\n<g id=\"edge4\" class=\"edge\">\n<title>138665230463504&#45;&gt;138665192944208*</title>\n<path fill=\"none\" stroke=\"black\" d=\"M831.1,-61.75C840.4,-63.37 849.38,-64.93 857.49,-66.33\"/>\n<polygon fill=\"black\" stroke=\"black\" points=\"857.14,-69.83 867.59,-68.09 858.34,-62.93 857.14,-69.83\"/>\n</g>\n<!-- 138665230463504+ -->\n<g id=\"node2\" class=\"node\">\n<title>138665230463504+</title>\n<ellipse fill=\"none\" stroke=\"black\" cx=\"579\" cy=\"-45.5\" rx=\"27\" ry=\"18\"/>\n<text text-anchor=\"middle\" x=\"579\" y=\"-41.8\" font-family=\"Times,serif\" font-size=\"14.00\">+</text>\n</g>\n<!-- 138665230463504+&#45;&gt;138665230463504 -->\n<g id=\"edge1\" class=\"edge\">\n<title>138665230463504+&#45;&gt;138665230463504</title>\n<path fill=\"none\" stroke=\"black\" d=\"M606.03,-45.5C613.66,-45.5 622.52,-45.5 631.94,-45.5\"/>\n<polygon fill=\"black\" stroke=\"black\" points=\"631.94,-49 641.94,-45.5 631.94,-42 631.94,-49\"/>\n</g>\n<!-- 138665192944208 -->\n<g id=\"node3\" class=\"node\">\n<title>138665192944208</title>\n<polygon fill=\"none\" stroke=\"black\" points=\"957,-54.5 957,-90.5 1149,-90.5 1149,-54.5 957,-54.5\"/>\n<text text-anchor=\"middle\" x=\"969.5\" y=\"-68.8\" font-family=\"Times,serif\" font-size=\"14.00\">L</text>\n<polyline fill=\"none\" stroke=\"black\" points=\"982,-54.5 982,-90.5 \"/>\n<text text-anchor=\"middle\" x=\"1024.5\" y=\"-68.8\" font-family=\"Times,serif\" font-size=\"14.00\">data &#45;8.0000</text>\n<polyline fill=\"none\" stroke=\"black\" points=\"1067,-54.5 1067,-90.5 \"/>\n<text text-anchor=\"middle\" x=\"1108\" y=\"-68.8\" font-family=\"Times,serif\" font-size=\"14.00\">grad 1.0000</text>\n</g>\n<!-- 138665192944208*&#45;&gt;138665192944208 -->\n<g id=\"edge2\" class=\"edge\">\n<title>138665192944208*&#45;&gt;138665192944208</title>\n<path fill=\"none\" stroke=\"black\" d=\"M921.28,-72.5C928.78,-72.5 937.44,-72.5 946.67,-72.5\"/>\n<polygon fill=\"black\" stroke=\"black\" points=\"946.87,-76 956.87,-72.5 946.87,-69 946.87,-76\"/>\n</g>\n<!-- 138665198302800 -->\n<g id=\"node5\" class=\"node\">\n<title>138665198302800</title>\n<polygon fill=\"none\" stroke=\"black\" points=\"321,-55.5 321,-91.5 515,-91.5 515,-55.5 321,-55.5\"/>\n<text text-anchor=\"middle\" x=\"332.5\" y=\"-69.8\" font-family=\"Times,serif\" font-size=\"14.00\">e</text>\n<polyline fill=\"none\" stroke=\"black\" points=\"344,-55.5 344,-91.5 \"/>\n<text text-anchor=\"middle\" x=\"386.5\" y=\"-69.8\" font-family=\"Times,serif\" font-size=\"14.00\">data &#45;6.0000</text>\n<polyline fill=\"none\" stroke=\"black\" points=\"429,-55.5 429,-91.5 \"/>\n<text text-anchor=\"middle\" x=\"472\" y=\"-69.8\" font-family=\"Times,serif\" font-size=\"14.00\">grad &#45;2.0000</text>\n</g>\n<!-- 138665198302800&#45;&gt;138665230463504+ -->\n<g id=\"edge8\" class=\"edge\">\n<title>138665198302800&#45;&gt;138665230463504+</title>\n<path fill=\"none\" stroke=\"black\" d=\"M515.16,-56.57C524.82,-54.87 534.13,-53.23 542.49,-51.75\"/>\n<polygon fill=\"black\" stroke=\"black\" points=\"543.3,-55.17 552.54,-49.98 542.08,-48.27 543.3,-55.17\"/>\n</g>\n<!-- 138665198302800* -->\n<g id=\"node6\" class=\"node\">\n<title>138665198302800*</title>\n<ellipse fill=\"none\" stroke=\"black\" cx=\"257\" cy=\"-73.5\" rx=\"27\" ry=\"18\"/>\n<text text-anchor=\"middle\" x=\"257\" y=\"-69.8\" font-family=\"Times,serif\" font-size=\"14.00\">*</text>\n</g>\n<!-- 138665198302800*&#45;&gt;138665198302800 -->\n<g id=\"edge3\" class=\"edge\">\n<title>138665198302800*&#45;&gt;138665198302800</title>\n<path fill=\"none\" stroke=\"black\" d=\"M284.26,-73.5C292.05,-73.5 301.1,-73.5 310.75,-73.5\"/>\n<polygon fill=\"black\" stroke=\"black\" points=\"310.99,-77 320.99,-73.5 310.99,-70 310.99,-77\"/>\n</g>\n<!-- 138665191827536 -->\n<g id=\"node7\" class=\"node\">\n<title>138665191827536</title>\n<polygon fill=\"none\" stroke=\"black\" points=\"0,-83.5 0,-119.5 194,-119.5 194,-83.5 0,-83.5\"/>\n<text text-anchor=\"middle\" x=\"11.5\" y=\"-97.8\" font-family=\"Times,serif\" font-size=\"14.00\">b</text>\n<polyline fill=\"none\" stroke=\"black\" points=\"23,-83.5 23,-119.5 \"/>\n<text text-anchor=\"middle\" x=\"65.5\" y=\"-97.8\" font-family=\"Times,serif\" font-size=\"14.00\">data &#45;3.0000</text>\n<polyline fill=\"none\" stroke=\"black\" points=\"108,-83.5 108,-119.5 \"/>\n<text text-anchor=\"middle\" x=\"151\" y=\"-97.8\" font-family=\"Times,serif\" font-size=\"14.00\">grad &#45;4.0000</text>\n</g>\n<!-- 138665191827536&#45;&gt;138665198302800* -->\n<g id=\"edge9\" class=\"edge\">\n<title>138665191827536&#45;&gt;138665198302800*</title>\n<path fill=\"none\" stroke=\"black\" d=\"M194.01,-84.49C203.35,-82.83 212.37,-81.23 220.49,-79.79\"/>\n<polygon fill=\"black\" stroke=\"black\" points=\"221.37,-83.19 230.6,-78 220.15,-76.3 221.37,-83.19\"/>\n</g>\n<!-- 138665192944272 -->\n<g id=\"node8\" class=\"node\">\n<title>138665192944272</title>\n<polygon fill=\"none\" stroke=\"black\" points=\"4.5,-28.5 4.5,-64.5 189.5,-64.5 189.5,-28.5 4.5,-28.5\"/>\n<text text-anchor=\"middle\" x=\"16\" y=\"-42.8\" font-family=\"Times,serif\" font-size=\"14.00\">a</text>\n<polyline fill=\"none\" stroke=\"black\" points=\"27.5,-28.5 27.5,-64.5 \"/>\n<text text-anchor=\"middle\" x=\"67.5\" y=\"-42.8\" font-family=\"Times,serif\" font-size=\"14.00\">data 2.0000</text>\n<polyline fill=\"none\" stroke=\"black\" points=\"107.5,-28.5 107.5,-64.5 \"/>\n<text text-anchor=\"middle\" x=\"148.5\" y=\"-42.8\" font-family=\"Times,serif\" font-size=\"14.00\">grad 6.0000</text>\n</g>\n<!-- 138665192944272&#45;&gt;138665198302800* -->\n<g id=\"edge6\" class=\"edge\">\n<title>138665192944272&#45;&gt;138665198302800*</title>\n<path fill=\"none\" stroke=\"black\" d=\"M189.91,-62.21C200.76,-64.06 211.28,-65.86 220.61,-67.45\"/>\n<polygon fill=\"black\" stroke=\"black\" points=\"220.16,-70.93 230.6,-69.16 221.34,-64.03 220.16,-70.93\"/>\n</g>\n<!-- 138665192943312 -->\n<g id=\"node9\" class=\"node\">\n<title>138665192943312</title>\n<polygon fill=\"none\" stroke=\"black\" points=\"642.5,-82.5 642.5,-118.5 830.5,-118.5 830.5,-82.5 642.5,-82.5\"/>\n<text text-anchor=\"middle\" x=\"653\" y=\"-96.8\" font-family=\"Times,serif\" font-size=\"14.00\">f</text>\n<polyline fill=\"none\" stroke=\"black\" points=\"663.5,-82.5 663.5,-118.5 \"/>\n<text text-anchor=\"middle\" x=\"706\" y=\"-96.8\" font-family=\"Times,serif\" font-size=\"14.00\">data &#45;2.0000</text>\n<polyline fill=\"none\" stroke=\"black\" points=\"748.5,-82.5 748.5,-118.5 \"/>\n<text text-anchor=\"middle\" x=\"789.5\" y=\"-96.8\" font-family=\"Times,serif\" font-size=\"14.00\">grad 4.0000</text>\n</g>\n<!-- 138665192943312&#45;&gt;138665192944208* -->\n<g id=\"edge7\" class=\"edge\">\n<title>138665192943312&#45;&gt;138665192944208*</title>\n<path fill=\"none\" stroke=\"black\" d=\"M830.65,-83.73C840.2,-82.01 849.43,-80.35 857.72,-78.85\"/>\n<polygon fill=\"black\" stroke=\"black\" points=\"858.47,-82.27 867.69,-77.06 857.23,-75.39 858.47,-82.27\"/>\n</g>\n<!-- 138665194631504 -->\n<g id=\"node10\" class=\"node\">\n<title>138665194631504</title>\n<polygon fill=\"none\" stroke=\"black\" points=\"320,-0.5 320,-36.5 516,-36.5 516,-0.5 320,-0.5\"/>\n<text text-anchor=\"middle\" x=\"331.5\" y=\"-14.8\" font-family=\"Times,serif\" font-size=\"14.00\">c</text>\n<polyline fill=\"none\" stroke=\"black\" points=\"343,-0.5 343,-36.5 \"/>\n<text text-anchor=\"middle\" x=\"386.5\" y=\"-14.8\" font-family=\"Times,serif\" font-size=\"14.00\">data 10.0000</text>\n<polyline fill=\"none\" stroke=\"black\" points=\"430,-0.5 430,-36.5 \"/>\n<text text-anchor=\"middle\" x=\"473\" y=\"-14.8\" font-family=\"Times,serif\" font-size=\"14.00\">grad &#45;2.0000</text>\n</g>\n<!-- 138665194631504&#45;&gt;138665230463504+ -->\n<g id=\"edge5\" class=\"edge\">\n<title>138665194631504&#45;&gt;138665230463504+</title>\n<path fill=\"none\" stroke=\"black\" d=\"M516.07,-34.98C525.42,-36.57 534.43,-38.1 542.55,-39.48\"/>\n<polygon fill=\"black\" stroke=\"black\" points=\"542.21,-42.97 552.65,-41.2 543.38,-36.07 542.21,-42.97\"/>\n</g>\n</g>\n</svg>\n",
            "text/plain": [
              "<graphviz.graphs.Digraph at 0x7e1d81b0b390>"
            ]
          },
          "metadata": {},
          "execution_count": 5
        }
      ]
    },
    {
      "cell_type": "code",
      "source": [
        "a.data += 0.01 * a.grad\n",
        "b.data += 0.01 * b.grad\n",
        "c.data += 0.01 * c.grad\n",
        "f.data += 0.01 * f.grad\n",
        "\n",
        "e = a * b\n",
        "d = e + c\n",
        "L = d * f\n",
        "\n",
        "print(L.data)"
      ],
      "metadata": {
        "colab": {
          "base_uri": "https://localhost:8080/"
        },
        "id": "GO4LAFa81SaR",
        "outputId": "d94221b7-989e-490c-f817-d3302789648d"
      },
      "execution_count": null,
      "outputs": [
        {
          "output_type": "stream",
          "name": "stdout",
          "text": [
            "-7.286496\n"
          ]
        }
      ]
    },
    {
      "cell_type": "code",
      "source": [
        "def lol():\n",
        "  h = 0.001\n",
        "\n",
        "  a = Value(2.0, label = 'a')\n",
        "  b = Value(-3.0, label = 'b')\n",
        "  c = Value(10.0, label = 'c')\n",
        "  e = a*b; e.label = 'e'\n",
        "  f = e + c; f.label = 'f'\n",
        "  L = d * f; L.label = 'L'\n",
        "  L1 = L.data\n",
        "\n",
        "  a = Value(2.0, label = 'a')\n",
        "  b = Value(-3.0, label = 'b')\n",
        "  b.data += h\n",
        "  c = Value(10.0, label = 'c')\n",
        "  e = a*b; e.label = 'e'\n",
        "  f = e + c; f.label = 'f'\n",
        "  L = d * f; L.label = 'L'\n",
        "  L2 = L.data\n",
        "\n",
        "  print((L2-L1)/h)\n",
        "\n",
        "lol()\n"
      ],
      "metadata": {
        "colab": {
          "base_uri": "https://localhost:8080/"
        },
        "id": "TOZP48WXKOMt",
        "outputId": "42d5a334-fe75-4649-ca7f-f2a54e994d8b"
      },
      "execution_count": null,
      "outputs": [
        {
          "output_type": "stream",
          "name": "stdout",
          "text": [
            "7.435199999999753\n"
          ]
        }
      ]
    },
    {
      "cell_type": "code",
      "source": [
        "plt.plot(np.arange(-5, 5, 0.2), np.tanh(np.arange(-5, 5, 0.2))); plt.grid();"
      ],
      "metadata": {
        "colab": {
          "base_uri": "https://localhost:8080/",
          "height": 430
        },
        "id": "KYPhuQjSNjiX",
        "outputId": "daa786e2-7a5a-4fe7-e67c-ddcd25fa3bec"
      },
      "execution_count": null,
      "outputs": [
        {
          "output_type": "display_data",
          "data": {
            "text/plain": [
              "<Figure size 640x480 with 1 Axes>"
            ],
            "image/png": "[encoded data removed]"
          },
          "metadata": {}
        }
      ]
    },
    {
      "cell_type": "code",
      "source": [
        "#input\n",
        "x1 = Value(2.0, label = 'x1')\n",
        "x2 = Value(0.0, label = 'x2')\n",
        "#weights\n",
        "w1 = Value(-3.0, label = 'w1')\n",
        "w2 =Value(1.0, label = 'w2')\n",
        "#bias\n",
        "b = Value(6.881375548243455, label = 'b')\n",
        "#x1x2 + x2w2 + b\n",
        "x1w1 = x1*w1; x1w1.label = 'x1w1'\n",
        "x2w2 = x2*w2; x2w2.label = 'x2w2'\n",
        "x1w1x2w2 = x1w1 + x2w2; label = 'x1*w1 + x2*w2'\n",
        "n = x1w1x2w2+b; n.label = 'n'\n",
        "o = n.tanh(); o.label = 'o'\n",
        "\n"
      ],
      "metadata": {
        "id": "ZlN-ry1PO90S"
      },
      "execution_count": null,
      "outputs": []
    },
    {
      "cell_type": "code",
      "source": [
        "draw_dot(o)"
      ],
      "metadata": {
        "colab": {
          "base_uri": "https://localhost:8080/",
          "height": 322
        },
        "id": "WU1lDsmmTEv_",
        "outputId": "5bc0c555-ad40-43a7-9032-1ba0fa70967e"
      },
      "execution_count": null,
      "outputs": [
        {
          "output_type": "execute_result",
          "data": {
            "image/svg+xml": "<?xml version=\"1.0\" encoding=\"UTF-8\" standalone=\"no\"?>\n<!DOCTYPE svg PUBLIC \"-//W3C//DTD SVG 1.1//EN\"\n \"http://www.w3.org/Graphics/SVG/1.1/DTD/svg11.dtd\">\n<!-- Generated by graphviz version 2.43.0 (0)\n -->\n<!-- Title: %3 Pages: 1 -->\n<svg width=\"1483pt\" height=\"210pt\"\n viewBox=\"0.00 0.00 1483.00 210.00\" xmlns=\"http://www.w3.org/2000/svg\" xmlns:xlink=\"http://www.w3.org/1999/xlink\">\n<g id=\"graph0\" class=\"graph\" transform=\"scale(1 1) rotate(0) translate(4 206)\">\n<title>%3</title>\n<polygon fill=\"white\" stroke=\"transparent\" points=\"-4,4 -4,-206 1479,-206 1479,4 -4,4\"/>\n<!-- 138665192399312 -->\n<g id=\"node1\" class=\"node\">\n<title>138665192399312</title>\n<polygon fill=\"none\" stroke=\"black\" points=\"4,-165.5 4,-201.5 196,-201.5 196,-165.5 4,-165.5\"/>\n<text text-anchor=\"middle\" x=\"19\" y=\"-179.8\" font-family=\"Times,serif\" font-size=\"14.00\">x2</text>\n<polyline fill=\"none\" stroke=\"black\" points=\"34,-165.5 34,-201.5 \"/>\n<text text-anchor=\"middle\" x=\"74\" y=\"-179.8\" font-family=\"Times,serif\" font-size=\"14.00\">data 0.0000</text>\n<polyline fill=\"none\" stroke=\"black\" points=\"114,-165.5 114,-201.5 \"/>\n<text text-anchor=\"middle\" x=\"155\" y=\"-179.8\" font-family=\"Times,serif\" font-size=\"14.00\">grad 0.5000</text>\n</g>\n<!-- 138665192418704* -->\n<g id=\"node14\" class=\"node\">\n<title>138665192418704*</title>\n<ellipse fill=\"none\" stroke=\"black\" cx=\"263\" cy=\"-128.5\" rx=\"27\" ry=\"18\"/>\n<text text-anchor=\"middle\" x=\"263\" y=\"-124.8\" font-family=\"Times,serif\" font-size=\"14.00\">*</text>\n</g>\n<!-- 138665192399312&#45;&gt;138665192418704* -->\n<g id=\"edge14\" class=\"edge\">\n<title>138665192399312&#45;&gt;138665192418704*</title>\n<path fill=\"none\" stroke=\"black\" d=\"M172.53,-165.44C181.84,-162.67 191.2,-159.67 200,-156.5 210.53,-152.71 221.75,-147.9 231.72,-143.33\"/>\n<polygon fill=\"black\" stroke=\"black\" points=\"233.25,-146.48 240.82,-139.07 230.28,-140.14 233.25,-146.48\"/>\n</g>\n<!-- 138665192401488 -->\n<g id=\"node2\" class=\"node\">\n<title>138665192401488</title>\n<polygon fill=\"none\" stroke=\"black\" points=\"1290,-54.5 1290,-90.5 1475,-90.5 1475,-54.5 1290,-54.5\"/>\n<text text-anchor=\"middle\" x=\"1301.5\" y=\"-68.8\" font-family=\"Times,serif\" font-size=\"14.00\">o</text>\n<polyline fill=\"none\" stroke=\"black\" points=\"1313,-54.5 1313,-90.5 \"/>\n<text text-anchor=\"middle\" x=\"1353\" y=\"-68.8\" font-family=\"Times,serif\" font-size=\"14.00\">data 0.7071</text>\n<polyline fill=\"none\" stroke=\"black\" points=\"1393,-54.5 1393,-90.5 \"/>\n<text text-anchor=\"middle\" x=\"1434\" y=\"-68.8\" font-family=\"Times,serif\" font-size=\"14.00\">grad 1.0000</text>\n</g>\n<!-- 138665192401488tanh -->\n<g id=\"node3\" class=\"node\">\n<title>138665192401488tanh</title>\n<ellipse fill=\"none\" stroke=\"black\" cx=\"1227\" cy=\"-72.5\" rx=\"27\" ry=\"18\"/>\n<text text-anchor=\"middle\" x=\"1227\" y=\"-68.8\" font-family=\"Times,serif\" font-size=\"14.00\">tanh</text>\n</g>\n<!-- 138665192401488tanh&#45;&gt;138665192401488 -->\n<g id=\"edge1\" class=\"edge\">\n<title>138665192401488tanh&#45;&gt;138665192401488</title>\n<path fill=\"none\" stroke=\"black\" d=\"M1254.04,-72.5C1261.58,-72.5 1270.3,-72.5 1279.57,-72.5\"/>\n<polygon fill=\"black\" stroke=\"black\" points=\"1279.81,-76 1289.81,-72.5 1279.81,-69 1279.81,-76\"/>\n</g>\n<!-- 138665192224912 -->\n<g id=\"node4\" class=\"node\">\n<title>138665192224912</title>\n<polygon fill=\"none\" stroke=\"black\" points=\"2.5,-110.5 2.5,-146.5 197.5,-146.5 197.5,-110.5 2.5,-110.5\"/>\n<text text-anchor=\"middle\" x=\"19\" y=\"-124.8\" font-family=\"Times,serif\" font-size=\"14.00\">w2</text>\n<polyline fill=\"none\" stroke=\"black\" points=\"35.5,-110.5 35.5,-146.5 \"/>\n<text text-anchor=\"middle\" x=\"75.5\" y=\"-124.8\" font-family=\"Times,serif\" font-size=\"14.00\">data 1.0000</text>\n<polyline fill=\"none\" stroke=\"black\" points=\"115.5,-110.5 115.5,-146.5 \"/>\n<text text-anchor=\"middle\" x=\"156.5\" y=\"-124.8\" font-family=\"Times,serif\" font-size=\"14.00\">grad 0.0000</text>\n</g>\n<!-- 138665192224912&#45;&gt;138665192418704* -->\n<g id=\"edge6\" class=\"edge\">\n<title>138665192224912&#45;&gt;138665192418704*</title>\n<path fill=\"none\" stroke=\"black\" d=\"M197.91,-128.5C207.65,-128.5 217.05,-128.5 225.52,-128.5\"/>\n<polygon fill=\"black\" stroke=\"black\" points=\"225.7,-132 235.7,-128.5 225.7,-125 225.7,-132\"/>\n</g>\n<!-- 138665192223184 -->\n<g id=\"node5\" class=\"node\">\n<title>138665192223184</title>\n<polygon fill=\"none\" stroke=\"black\" points=\"667,-27.5 667,-63.5 852,-63.5 852,-27.5 667,-27.5\"/>\n<text text-anchor=\"middle\" x=\"678.5\" y=\"-41.8\" font-family=\"Times,serif\" font-size=\"14.00\">b</text>\n<polyline fill=\"none\" stroke=\"black\" points=\"690,-27.5 690,-63.5 \"/>\n<text text-anchor=\"middle\" x=\"730\" y=\"-41.8\" font-family=\"Times,serif\" font-size=\"14.00\">data 6.8814</text>\n<polyline fill=\"none\" stroke=\"black\" points=\"770,-27.5 770,-63.5 \"/>\n<text text-anchor=\"middle\" x=\"811\" y=\"-41.8\" font-family=\"Times,serif\" font-size=\"14.00\">grad 0.5000</text>\n</g>\n<!-- 138665192406224+ -->\n<g id=\"node7\" class=\"node\">\n<title>138665192406224+</title>\n<ellipse fill=\"none\" stroke=\"black\" cx=\"916\" cy=\"-72.5\" rx=\"27\" ry=\"18\"/>\n<text text-anchor=\"middle\" x=\"916\" y=\"-68.8\" font-family=\"Times,serif\" font-size=\"14.00\">+</text>\n</g>\n<!-- 138665192223184&#45;&gt;138665192406224+ -->\n<g id=\"edge9\" class=\"edge\">\n<title>138665192223184&#45;&gt;138665192406224+</title>\n<path fill=\"none\" stroke=\"black\" d=\"M852.16,-61.52C861.84,-63.21 871.22,-64.85 879.64,-66.32\"/>\n<polygon fill=\"black\" stroke=\"black\" points=\"879.29,-69.81 889.75,-68.09 880.5,-62.92 879.29,-69.81\"/>\n</g>\n<!-- 138665192406224 -->\n<g id=\"node6\" class=\"node\">\n<title>138665192406224</title>\n<polygon fill=\"none\" stroke=\"black\" points=\"979,-54.5 979,-90.5 1164,-90.5 1164,-54.5 979,-54.5\"/>\n<text text-anchor=\"middle\" x=\"990.5\" y=\"-68.8\" font-family=\"Times,serif\" font-size=\"14.00\">n</text>\n<polyline fill=\"none\" stroke=\"black\" points=\"1002,-54.5 1002,-90.5 \"/>\n<text text-anchor=\"middle\" x=\"1042\" y=\"-68.8\" font-family=\"Times,serif\" font-size=\"14.00\">data 0.8814</text>\n<polyline fill=\"none\" stroke=\"black\" points=\"1082,-54.5 1082,-90.5 \"/>\n<text text-anchor=\"middle\" x=\"1123\" y=\"-68.8\" font-family=\"Times,serif\" font-size=\"14.00\">grad 0.5000</text>\n</g>\n<!-- 138665192406224&#45;&gt;138665192401488tanh -->\n<g id=\"edge13\" class=\"edge\">\n<title>138665192406224&#45;&gt;138665192401488tanh</title>\n<path fill=\"none\" stroke=\"black\" d=\"M1164.01,-72.5C1173.01,-72.5 1181.74,-72.5 1189.66,-72.5\"/>\n<polygon fill=\"black\" stroke=\"black\" points=\"1189.91,-76 1199.91,-72.5 1189.91,-69 1189.91,-76\"/>\n</g>\n<!-- 138665192406224+&#45;&gt;138665192406224 -->\n<g id=\"edge2\" class=\"edge\">\n<title>138665192406224+&#45;&gt;138665192406224</title>\n<path fill=\"none\" stroke=\"black\" d=\"M943.04,-72.5C950.58,-72.5 959.3,-72.5 968.57,-72.5\"/>\n<polygon fill=\"black\" stroke=\"black\" points=\"968.81,-76 978.81,-72.5 968.81,-69 968.81,-76\"/>\n</g>\n<!-- 138665192221456 -->\n<g id=\"node8\" class=\"node\">\n<title>138665192221456</title>\n<polygon fill=\"none\" stroke=\"black\" points=\"666,-82.5 666,-118.5 853,-118.5 853,-82.5 666,-82.5\"/>\n<text text-anchor=\"middle\" x=\"676\" y=\"-96.8\" font-family=\"Times,serif\" font-size=\"14.00\"> </text>\n<polyline fill=\"none\" stroke=\"black\" points=\"686,-82.5 686,-118.5 \"/>\n<text text-anchor=\"middle\" x=\"728.5\" y=\"-96.8\" font-family=\"Times,serif\" font-size=\"14.00\">data &#45;6.0000</text>\n<polyline fill=\"none\" stroke=\"black\" points=\"771,-82.5 771,-118.5 \"/>\n<text text-anchor=\"middle\" x=\"812\" y=\"-96.8\" font-family=\"Times,serif\" font-size=\"14.00\">grad 0.5000</text>\n</g>\n<!-- 138665192221456&#45;&gt;138665192406224+ -->\n<g id=\"edge12\" class=\"edge\">\n<title>138665192221456&#45;&gt;138665192406224+</title>\n<path fill=\"none\" stroke=\"black\" d=\"M853.05,-83.73C862.54,-82.01 871.71,-80.35 879.95,-78.85\"/>\n<polygon fill=\"black\" stroke=\"black\" points=\"880.64,-82.28 889.85,-77.06 879.39,-75.4 880.64,-82.28\"/>\n</g>\n<!-- 138665192221456+ -->\n<g id=\"node9\" class=\"node\">\n<title>138665192221456+</title>\n<ellipse fill=\"none\" stroke=\"black\" cx=\"603\" cy=\"-100.5\" rx=\"27\" ry=\"18\"/>\n<text text-anchor=\"middle\" x=\"603\" y=\"-96.8\" font-family=\"Times,serif\" font-size=\"14.00\">+</text>\n</g>\n<!-- 138665192221456+&#45;&gt;138665192221456 -->\n<g id=\"edge3\" class=\"edge\">\n<title>138665192221456+&#45;&gt;138665192221456</title>\n<path fill=\"none\" stroke=\"black\" d=\"M630.21,-100.5C637.73,-100.5 646.43,-100.5 655.67,-100.5\"/>\n<polygon fill=\"black\" stroke=\"black\" points=\"655.89,-104 665.89,-100.5 655.89,-97 655.89,-104\"/>\n</g>\n<!-- 138665192224528 -->\n<g id=\"node10\" class=\"node\">\n<title>138665192224528</title>\n<polygon fill=\"none\" stroke=\"black\" points=\"326,-55.5 326,-91.5 540,-91.5 540,-55.5 326,-55.5\"/>\n<text text-anchor=\"middle\" x=\"349.5\" y=\"-69.8\" font-family=\"Times,serif\" font-size=\"14.00\">x1w1</text>\n<polyline fill=\"none\" stroke=\"black\" points=\"373,-55.5 373,-91.5 \"/>\n<text text-anchor=\"middle\" x=\"415.5\" y=\"-69.8\" font-family=\"Times,serif\" font-size=\"14.00\">data &#45;6.0000</text>\n<polyline fill=\"none\" stroke=\"black\" points=\"458,-55.5 458,-91.5 \"/>\n<text text-anchor=\"middle\" x=\"499\" y=\"-69.8\" font-family=\"Times,serif\" font-size=\"14.00\">grad 0.5000</text>\n</g>\n<!-- 138665192224528&#45;&gt;138665192221456+ -->\n<g id=\"edge7\" class=\"edge\">\n<title>138665192224528&#45;&gt;138665192221456+</title>\n<path fill=\"none\" stroke=\"black\" d=\"M540.4,-90.6C549.72,-92.1 558.65,-93.53 566.68,-94.82\"/>\n<polygon fill=\"black\" stroke=\"black\" points=\"566.24,-98.3 576.66,-96.43 567.35,-91.39 566.24,-98.3\"/>\n</g>\n<!-- 138665192224528* -->\n<g id=\"node11\" class=\"node\">\n<title>138665192224528*</title>\n<ellipse fill=\"none\" stroke=\"black\" cx=\"263\" cy=\"-73.5\" rx=\"27\" ry=\"18\"/>\n<text text-anchor=\"middle\" x=\"263\" y=\"-69.8\" font-family=\"Times,serif\" font-size=\"14.00\">*</text>\n</g>\n<!-- 138665192224528*&#45;&gt;138665192224528 -->\n<g id=\"edge4\" class=\"edge\">\n<title>138665192224528*&#45;&gt;138665192224528</title>\n<path fill=\"none\" stroke=\"black\" d=\"M290.25,-73.5C297.7,-73.5 306.34,-73.5 315.59,-73.5\"/>\n<polygon fill=\"black\" stroke=\"black\" points=\"315.84,-77 325.84,-73.5 315.84,-70 315.84,-77\"/>\n</g>\n<!-- 138665192021328 -->\n<g id=\"node12\" class=\"node\">\n<title>138665192021328</title>\n<polygon fill=\"none\" stroke=\"black\" points=\"2,-55.5 2,-91.5 198,-91.5 198,-55.5 2,-55.5\"/>\n<text text-anchor=\"middle\" x=\"17\" y=\"-69.8\" font-family=\"Times,serif\" font-size=\"14.00\">x1</text>\n<polyline fill=\"none\" stroke=\"black\" points=\"32,-55.5 32,-91.5 \"/>\n<text text-anchor=\"middle\" x=\"72\" y=\"-69.8\" font-family=\"Times,serif\" font-size=\"14.00\">data 2.0000</text>\n<polyline fill=\"none\" stroke=\"black\" points=\"112,-55.5 112,-91.5 \"/>\n<text text-anchor=\"middle\" x=\"155\" y=\"-69.8\" font-family=\"Times,serif\" font-size=\"14.00\">grad &#45;1.5000</text>\n</g>\n<!-- 138665192021328&#45;&gt;138665192224528* -->\n<g id=\"edge10\" class=\"edge\">\n<title>138665192021328&#45;&gt;138665192224528*</title>\n<path fill=\"none\" stroke=\"black\" d=\"M198.37,-73.5C208.05,-73.5 217.4,-73.5 225.8,-73.5\"/>\n<polygon fill=\"black\" stroke=\"black\" points=\"225.91,-77 235.91,-73.5 225.91,-70 225.91,-77\"/>\n</g>\n<!-- 138665192418704 -->\n<g id=\"node13\" class=\"node\">\n<title>138665192418704</title>\n<polygon fill=\"none\" stroke=\"black\" points=\"328.5,-110.5 328.5,-146.5 537.5,-146.5 537.5,-110.5 328.5,-110.5\"/>\n<text text-anchor=\"middle\" x=\"352\" y=\"-124.8\" font-family=\"Times,serif\" font-size=\"14.00\">x2w2</text>\n<polyline fill=\"none\" stroke=\"black\" points=\"375.5,-110.5 375.5,-146.5 \"/>\n<text text-anchor=\"middle\" x=\"415.5\" y=\"-124.8\" font-family=\"Times,serif\" font-size=\"14.00\">data 0.0000</text>\n<polyline fill=\"none\" stroke=\"black\" points=\"455.5,-110.5 455.5,-146.5 \"/>\n<text text-anchor=\"middle\" x=\"496.5\" y=\"-124.8\" font-family=\"Times,serif\" font-size=\"14.00\">grad 0.5000</text>\n</g>\n<!-- 138665192418704&#45;&gt;138665192221456+ -->\n<g id=\"edge8\" class=\"edge\">\n<title>138665192418704&#45;&gt;138665192221456+</title>\n<path fill=\"none\" stroke=\"black\" d=\"M537.53,-111.25C547.8,-109.53 557.66,-107.89 566.45,-106.43\"/>\n<polygon fill=\"black\" stroke=\"black\" points=\"567.3,-109.83 576.59,-104.74 566.15,-102.93 567.3,-109.83\"/>\n</g>\n<!-- 138665192418704*&#45;&gt;138665192418704 -->\n<g id=\"edge5\" class=\"edge\">\n<title>138665192418704*&#45;&gt;138665192418704</title>\n<path fill=\"none\" stroke=\"black\" d=\"M290.25,-128.5C298.43,-128.5 308.03,-128.5 318.31,-128.5\"/>\n<polygon fill=\"black\" stroke=\"black\" points=\"318.35,-132 328.35,-128.5 318.35,-125 318.35,-132\"/>\n</g>\n<!-- 138665193120208 -->\n<g id=\"node15\" class=\"node\">\n<title>138665193120208</title>\n<polygon fill=\"none\" stroke=\"black\" points=\"0,-0.5 0,-36.5 200,-36.5 200,-0.5 0,-0.5\"/>\n<text text-anchor=\"middle\" x=\"16.5\" y=\"-14.8\" font-family=\"Times,serif\" font-size=\"14.00\">w1</text>\n<polyline fill=\"none\" stroke=\"black\" points=\"33,-0.5 33,-36.5 \"/>\n<text text-anchor=\"middle\" x=\"75.5\" y=\"-14.8\" font-family=\"Times,serif\" font-size=\"14.00\">data &#45;3.0000</text>\n<polyline fill=\"none\" stroke=\"black\" points=\"118,-0.5 118,-36.5 \"/>\n<text text-anchor=\"middle\" x=\"159\" y=\"-14.8\" font-family=\"Times,serif\" font-size=\"14.00\">grad 1.0000</text>\n</g>\n<!-- 138665193120208&#45;&gt;138665192224528* -->\n<g id=\"edge11\" class=\"edge\">\n<title>138665193120208&#45;&gt;138665192224528*</title>\n<path fill=\"none\" stroke=\"black\" d=\"M169.28,-36.5C179.65,-39.61 190.16,-42.98 200,-46.5 210.28,-50.17 221.28,-54.74 231.11,-59.07\"/>\n<polygon fill=\"black\" stroke=\"black\" points=\"229.93,-62.37 240.48,-63.27 232.79,-55.99 229.93,-62.37\"/>\n</g>\n</g>\n</svg>\n",
            "text/plain": [
              "<graphviz.graphs.Digraph at 0x7e1d81891810>"
            ]
          },
          "metadata": {},
          "execution_count": 20
        }
      ]
    },
    {
      "cell_type": "code",
      "source": [
        "o.backward()"
      ],
      "metadata": {
        "id": "3yXAAinLTJhN"
      },
      "execution_count": null,
      "outputs": []
    },
    {
      "cell_type": "code",
      "source": [
        "topo = []\n",
        "visited = set()\n",
        "def build_topo(v):\n",
        "  if v not in visited:\n",
        "    visited.add(v)\n",
        "    for child in v._prev:\n",
        "      build_topo(child)\n",
        "    topo.append(v)\n",
        "build_topo(o)\n",
        "topo"
      ],
      "metadata": {
        "colab": {
          "base_uri": "https://localhost:8080/"
        },
        "id": "DlTv66FgTS1X",
        "outputId": "0102f53b-7755-43ba-ea90-3bcabb0081e2"
      },
      "execution_count": null,
      "outputs": [
        {
          "output_type": "execute_result",
          "data": {
            "text/plain": [
              "[Value(data=-3.0),\n",
              " Value(data=2.0),\n",
              " Value(data=-6.0),\n",
              " Value(data=1.0),\n",
              " Value(data=0.0),\n",
              " Value(data=0.0),\n",
              " Value(data=-6.0),\n",
              " Value(data=6.881375548243455),\n",
              " Value(data=0.8813755482434553),\n",
              " Value(data=0.7071077617971437)]"
            ]
          },
          "metadata": {},
          "execution_count": 21
        }
      ]
    },
    {
      "cell_type": "code",
      "source": [
        "o.grad = 1.0"
      ],
      "metadata": {
        "id": "52T3F8dATUOI"
      },
      "execution_count": null,
      "outputs": []
    },
    {
      "cell_type": "code",
      "source": [
        "o._backward()"
      ],
      "metadata": {
        "id": "xZcSxAbnTfPd"
      },
      "execution_count": null,
      "outputs": []
    },
    {
      "cell_type": "code",
      "source": [
        "n._backward()"
      ],
      "metadata": {
        "id": "hjBTQLbYTt-i"
      },
      "execution_count": null,
      "outputs": []
    },
    {
      "cell_type": "code",
      "source": [
        "b._backward()"
      ],
      "metadata": {
        "id": "cM3QxptlT8Tt"
      },
      "execution_count": null,
      "outputs": []
    },
    {
      "cell_type": "code",
      "source": [
        "x1w1x2w2._backward()"
      ],
      "metadata": {
        "id": "k_AQC8KbUAz6"
      },
      "execution_count": null,
      "outputs": []
    },
    {
      "cell_type": "code",
      "source": [
        "x1w1._backward()\n",
        "x2w2._backward()"
      ],
      "metadata": {
        "id": "48DgwAicUHRm"
      },
      "execution_count": null,
      "outputs": []
    },
    {
      "cell_type": "code",
      "source": [
        "x1.grad = w1.data*x1w1.grad\n",
        "w1.grad = x1.data*x2w2.grad"
      ],
      "metadata": {
        "id": "RE9jDHJxULu9"
      },
      "execution_count": null,
      "outputs": []
    },
    {
      "cell_type": "code",
      "source": [
        "x2.grad = w2.data*x2w2.grad\n",
        "w2.grad = x2.data*x2w2.grad"
      ],
      "metadata": {
        "id": "LTuMYgj-UjMv"
      },
      "execution_count": null,
      "outputs": []
    },
    {
      "cell_type": "code",
      "source": [
        "x1w1.grad = 0.5\n",
        "x2w2.grad = 0.5"
      ],
      "metadata": {
        "id": "an7geXUsUqrx"
      },
      "execution_count": null,
      "outputs": []
    },
    {
      "cell_type": "code",
      "source": [
        "x1w1x2w2.grad = 0.5\n",
        "b.grad = 0.5"
      ],
      "metadata": {
        "id": "v5maDEVHU0Ch"
      },
      "execution_count": null,
      "outputs": []
    },
    {
      "cell_type": "code",
      "source": [
        "n.grad = 0.5"
      ],
      "metadata": {
        "id": "Kd8jwgulU7oP"
      },
      "execution_count": null,
      "outputs": []
    },
    {
      "cell_type": "code",
      "source": [
        "o.grad = 1.0"
      ],
      "metadata": {
        "id": "sy3Ztqx5VBl8"
      },
      "execution_count": null,
      "outputs": []
    },
    {
      "cell_type": "code",
      "source": [
        "1-o.data**2"
      ],
      "metadata": {
        "colab": {
          "base_uri": "https://localhost:8080/"
        },
        "id": "107xbW2bVFuL",
        "outputId": "4f9be196-2c91-40d3-85ec-f564e618bd25"
      },
      "execution_count": null,
      "outputs": [
        {
          "output_type": "execute_result",
          "data": {
            "text/plain": [
              "0.49999861320623384"
            ]
          },
          "metadata": {},
          "execution_count": 32
        }
      ]
    },
    {
      "cell_type": "code",
      "source": [
        "a = Value(3.0, label = 'a')\n",
        "b = a + a; b.label = 'b'\n",
        "b.backward()\n",
        "draw_dot(b)"
      ],
      "metadata": {
        "colab": {
          "base_uri": "https://localhost:8080/",
          "height": 82
        },
        "id": "2Wjzeqq5Z-IS",
        "outputId": "e901e314-2939-48b0-c25e-19c8c7c759cb"
      },
      "execution_count": null,
      "outputs": [
        {
          "output_type": "execute_result",
          "data": {
            "image/svg+xml": "<?xml version=\"1.0\" encoding=\"UTF-8\" standalone=\"no\"?>\n<!DOCTYPE svg PUBLIC \"-//W3C//DTD SVG 1.1//EN\"\n \"http://www.w3.org/Graphics/SVG/1.1/DTD/svg11.dtd\">\n<!-- Generated by graphviz version 2.43.0 (0)\n -->\n<!-- Title: %3 Pages: 1 -->\n<svg width=\"504pt\" height=\"45pt\"\n viewBox=\"0.00 0.00 504.00 45.00\" xmlns=\"http://www.w3.org/2000/svg\" xmlns:xlink=\"http://www.w3.org/1999/xlink\">\n<g id=\"graph0\" class=\"graph\" transform=\"scale(1 1) rotate(0) translate(4 41)\">\n<title>%3</title>\n<polygon fill=\"white\" stroke=\"transparent\" points=\"-4,4 -4,-41 500,-41 500,4 -4,4\"/>\n<!-- 138665192224016 -->\n<g id=\"node1\" class=\"node\">\n<title>138665192224016</title>\n<polygon fill=\"none\" stroke=\"black\" points=\"311,-0.5 311,-36.5 496,-36.5 496,-0.5 311,-0.5\"/>\n<text text-anchor=\"middle\" x=\"322.5\" y=\"-14.8\" font-family=\"Times,serif\" font-size=\"14.00\">b</text>\n<polyline fill=\"none\" stroke=\"black\" points=\"334,-0.5 334,-36.5 \"/>\n<text text-anchor=\"middle\" x=\"374\" y=\"-14.8\" font-family=\"Times,serif\" font-size=\"14.00\">data 6.0000</text>\n<polyline fill=\"none\" stroke=\"black\" points=\"414,-0.5 414,-36.5 \"/>\n<text text-anchor=\"middle\" x=\"455\" y=\"-14.8\" font-family=\"Times,serif\" font-size=\"14.00\">grad 1.0000</text>\n</g>\n<!-- 138665192224016+ -->\n<g id=\"node2\" class=\"node\">\n<title>138665192224016+</title>\n<ellipse fill=\"none\" stroke=\"black\" cx=\"248\" cy=\"-18.5\" rx=\"27\" ry=\"18\"/>\n<text text-anchor=\"middle\" x=\"248\" y=\"-14.8\" font-family=\"Times,serif\" font-size=\"14.00\">+</text>\n</g>\n<!-- 138665192224016+&#45;&gt;138665192224016 -->\n<g id=\"edge1\" class=\"edge\">\n<title>138665192224016+&#45;&gt;138665192224016</title>\n<path fill=\"none\" stroke=\"black\" d=\"M275.04,-18.5C282.58,-18.5 291.3,-18.5 300.57,-18.5\"/>\n<polygon fill=\"black\" stroke=\"black\" points=\"300.81,-22 310.81,-18.5 300.81,-15 300.81,-22\"/>\n</g>\n<!-- 138665192223824 -->\n<g id=\"node3\" class=\"node\">\n<title>138665192223824</title>\n<polygon fill=\"none\" stroke=\"black\" points=\"0,-0.5 0,-36.5 185,-36.5 185,-0.5 0,-0.5\"/>\n<text text-anchor=\"middle\" x=\"11.5\" y=\"-14.8\" font-family=\"Times,serif\" font-size=\"14.00\">a</text>\n<polyline fill=\"none\" stroke=\"black\" points=\"23,-0.5 23,-36.5 \"/>\n<text text-anchor=\"middle\" x=\"63\" y=\"-14.8\" font-family=\"Times,serif\" font-size=\"14.00\">data 3.0000</text>\n<polyline fill=\"none\" stroke=\"black\" points=\"103,-0.5 103,-36.5 \"/>\n<text text-anchor=\"middle\" x=\"144\" y=\"-14.8\" font-family=\"Times,serif\" font-size=\"14.00\">grad 2.0000</text>\n</g>\n<!-- 138665192223824&#45;&gt;138665192224016+ -->\n<g id=\"edge2\" class=\"edge\">\n<title>138665192223824&#45;&gt;138665192224016+</title>\n<path fill=\"none\" stroke=\"black\" d=\"M185.01,-18.5C194.01,-18.5 202.74,-18.5 210.66,-18.5\"/>\n<polygon fill=\"black\" stroke=\"black\" points=\"210.91,-22 220.91,-18.5 210.91,-15 210.91,-22\"/>\n</g>\n</g>\n</svg>\n",
            "text/plain": [
              "<graphviz.graphs.Digraph at 0x7e1d8182b650>"
            ]
          },
          "metadata": {},
          "execution_count": 33
        }
      ]
    },
    {
      "cell_type": "code",
      "source": [
        "a = Value(-2.0, label='a')\n",
        "b = Value(3.0, label='b')\n",
        "d = a * b    ; d.label = 'd'\n",
        "e = a + b    ; e.label = 'e'\n",
        "f = d * e    ; f.label = 'f'\n",
        "\n",
        "f.backward()\n",
        "\n",
        "draw_dot(f)"
      ],
      "metadata": {
        "colab": {
          "base_uri": "https://localhost:8080/",
          "height": 155
        },
        "id": "ThNeQwuRadQK",
        "outputId": "202d99fc-8f44-49ec-dadb-aecd07720949"
      },
      "execution_count": null,
      "outputs": [
        {
          "output_type": "execute_result",
          "data": {
            "image/svg+xml": "<?xml version=\"1.0\" encoding=\"UTF-8\" standalone=\"no\"?>\n<!DOCTYPE svg PUBLIC \"-//W3C//DTD SVG 1.1//EN\"\n \"http://www.w3.org/Graphics/SVG/1.1/DTD/svg11.dtd\">\n<!-- Generated by graphviz version 2.43.0 (0)\n -->\n<!-- Title: %3 Pages: 1 -->\n<svg width=\"832pt\" height=\"100pt\"\n viewBox=\"0.00 0.00 832.00 100.00\" xmlns=\"http://www.w3.org/2000/svg\" xmlns:xlink=\"http://www.w3.org/1999/xlink\">\n<g id=\"graph0\" class=\"graph\" transform=\"scale(1 1) rotate(0) translate(4 96)\">\n<title>%3</title>\n<polygon fill=\"white\" stroke=\"transparent\" points=\"-4,4 -4,-96 828,-96 828,4 -4,4\"/>\n<!-- 138665192202192 -->\n<g id=\"node1\" class=\"node\">\n<title>138665192202192</title>\n<polygon fill=\"none\" stroke=\"black\" points=\"636,-27.5 636,-63.5 824,-63.5 824,-27.5 636,-27.5\"/>\n<text text-anchor=\"middle\" x=\"646.5\" y=\"-41.8\" font-family=\"Times,serif\" font-size=\"14.00\">f</text>\n<polyline fill=\"none\" stroke=\"black\" points=\"657,-27.5 657,-63.5 \"/>\n<text text-anchor=\"middle\" x=\"699.5\" y=\"-41.8\" font-family=\"Times,serif\" font-size=\"14.00\">data &#45;6.0000</text>\n<polyline fill=\"none\" stroke=\"black\" points=\"742,-27.5 742,-63.5 \"/>\n<text text-anchor=\"middle\" x=\"783\" y=\"-41.8\" font-family=\"Times,serif\" font-size=\"14.00\">grad 1.0000</text>\n</g>\n<!-- 138665192202192* -->\n<g id=\"node2\" class=\"node\">\n<title>138665192202192*</title>\n<ellipse fill=\"none\" stroke=\"black\" cx=\"573\" cy=\"-45.5\" rx=\"27\" ry=\"18\"/>\n<text text-anchor=\"middle\" x=\"573\" y=\"-41.8\" font-family=\"Times,serif\" font-size=\"14.00\">*</text>\n</g>\n<!-- 138665192202192*&#45;&gt;138665192202192 -->\n<g id=\"edge1\" class=\"edge\">\n<title>138665192202192*&#45;&gt;138665192202192</title>\n<path fill=\"none\" stroke=\"black\" d=\"M600.29,-45.5C607.78,-45.5 616.42,-45.5 625.6,-45.5\"/>\n<polygon fill=\"black\" stroke=\"black\" points=\"625.76,-49 635.76,-45.5 625.76,-42 625.76,-49\"/>\n</g>\n<!-- 138665192226384 -->\n<g id=\"node3\" class=\"node\">\n<title>138665192226384</title>\n<polygon fill=\"none\" stroke=\"black\" points=\"320.5,-55.5 320.5,-91.5 509.5,-91.5 509.5,-55.5 320.5,-55.5\"/>\n<text text-anchor=\"middle\" x=\"332\" y=\"-69.8\" font-family=\"Times,serif\" font-size=\"14.00\">e</text>\n<polyline fill=\"none\" stroke=\"black\" points=\"343.5,-55.5 343.5,-91.5 \"/>\n<text text-anchor=\"middle\" x=\"383.5\" y=\"-69.8\" font-family=\"Times,serif\" font-size=\"14.00\">data 1.0000</text>\n<polyline fill=\"none\" stroke=\"black\" points=\"423.5,-55.5 423.5,-91.5 \"/>\n<text text-anchor=\"middle\" x=\"466.5\" y=\"-69.8\" font-family=\"Times,serif\" font-size=\"14.00\">grad &#45;6.0000</text>\n</g>\n<!-- 138665192226384&#45;&gt;138665192202192* -->\n<g id=\"edge4\" class=\"edge\">\n<title>138665192226384&#45;&gt;138665192202192*</title>\n<path fill=\"none\" stroke=\"black\" d=\"M509.9,-56.65C519.42,-54.94 528.62,-53.29 536.89,-51.8\"/>\n<polygon fill=\"black\" stroke=\"black\" points=\"537.59,-55.23 546.81,-50.02 536.35,-48.34 537.59,-55.23\"/>\n</g>\n<!-- 138665192226384+ -->\n<g id=\"node4\" class=\"node\">\n<title>138665192226384+</title>\n<ellipse fill=\"none\" stroke=\"black\" cx=\"257\" cy=\"-73.5\" rx=\"27\" ry=\"18\"/>\n<text text-anchor=\"middle\" x=\"257\" y=\"-69.8\" font-family=\"Times,serif\" font-size=\"14.00\">+</text>\n</g>\n<!-- 138665192226384+&#45;&gt;138665192226384 -->\n<g id=\"edge2\" class=\"edge\">\n<title>138665192226384+&#45;&gt;138665192226384</title>\n<path fill=\"none\" stroke=\"black\" d=\"M284.11,-73.5C291.84,-73.5 300.8,-73.5 310.35,-73.5\"/>\n<polygon fill=\"black\" stroke=\"black\" points=\"310.48,-77 320.48,-73.5 310.48,-70 310.48,-77\"/>\n</g>\n<!-- 138665192110224 -->\n<g id=\"node5\" class=\"node\">\n<title>138665192110224</title>\n<polygon fill=\"none\" stroke=\"black\" points=\"0,-55.5 0,-91.5 194,-91.5 194,-55.5 0,-55.5\"/>\n<text text-anchor=\"middle\" x=\"11.5\" y=\"-69.8\" font-family=\"Times,serif\" font-size=\"14.00\">a</text>\n<polyline fill=\"none\" stroke=\"black\" points=\"23,-55.5 23,-91.5 \"/>\n<text text-anchor=\"middle\" x=\"65.5\" y=\"-69.8\" font-family=\"Times,serif\" font-size=\"14.00\">data &#45;2.0000</text>\n<polyline fill=\"none\" stroke=\"black\" points=\"108,-55.5 108,-91.5 \"/>\n<text text-anchor=\"middle\" x=\"151\" y=\"-69.8\" font-family=\"Times,serif\" font-size=\"14.00\">grad &#45;3.0000</text>\n</g>\n<!-- 138665192110224&#45;&gt;138665192226384+ -->\n<g id=\"edge6\" class=\"edge\">\n<title>138665192110224&#45;&gt;138665192226384+</title>\n<path fill=\"none\" stroke=\"black\" d=\"M194.01,-73.5C202.98,-73.5 211.65,-73.5 219.51,-73.5\"/>\n<polygon fill=\"black\" stroke=\"black\" points=\"219.7,-77 229.7,-73.5 219.7,-70 219.7,-77\"/>\n</g>\n<!-- 138665192088912* -->\n<g id=\"node7\" class=\"node\">\n<title>138665192088912*</title>\n<ellipse fill=\"none\" stroke=\"black\" cx=\"257\" cy=\"-18.5\" rx=\"27\" ry=\"18\"/>\n<text text-anchor=\"middle\" x=\"257\" y=\"-14.8\" font-family=\"Times,serif\" font-size=\"14.00\">*</text>\n</g>\n<!-- 138665192110224&#45;&gt;138665192088912* -->\n<g id=\"edge8\" class=\"edge\">\n<title>138665192110224&#45;&gt;138665192088912*</title>\n<path fill=\"none\" stroke=\"black\" d=\"M166.84,-55.49C176.04,-52.69 185.3,-49.67 194,-46.5 204.51,-42.67 215.73,-37.84 225.7,-33.28\"/>\n<polygon fill=\"black\" stroke=\"black\" points=\"227.23,-36.43 234.81,-29.02 224.27,-30.09 227.23,-36.43\"/>\n</g>\n<!-- 138665192088912 -->\n<g id=\"node6\" class=\"node\">\n<title>138665192088912</title>\n<polygon fill=\"none\" stroke=\"black\" points=\"320,-0.5 320,-36.5 510,-36.5 510,-0.5 320,-0.5\"/>\n<text text-anchor=\"middle\" x=\"331.5\" y=\"-14.8\" font-family=\"Times,serif\" font-size=\"14.00\">d</text>\n<polyline fill=\"none\" stroke=\"black\" points=\"343,-0.5 343,-36.5 \"/>\n<text text-anchor=\"middle\" x=\"385.5\" y=\"-14.8\" font-family=\"Times,serif\" font-size=\"14.00\">data &#45;6.0000</text>\n<polyline fill=\"none\" stroke=\"black\" points=\"428,-0.5 428,-36.5 \"/>\n<text text-anchor=\"middle\" x=\"469\" y=\"-14.8\" font-family=\"Times,serif\" font-size=\"14.00\">grad 1.0000</text>\n</g>\n<!-- 138665192088912&#45;&gt;138665192202192* -->\n<g id=\"edge9\" class=\"edge\">\n<title>138665192088912&#45;&gt;138665192202192*</title>\n<path fill=\"none\" stroke=\"black\" d=\"M510.34,-34.83C519.62,-36.44 528.58,-37.99 536.66,-39.38\"/>\n<polygon fill=\"black\" stroke=\"black\" points=\"536.27,-42.87 546.72,-41.12 537.46,-35.97 536.27,-42.87\"/>\n</g>\n<!-- 138665192088912*&#45;&gt;138665192088912 -->\n<g id=\"edge3\" class=\"edge\">\n<title>138665192088912*&#45;&gt;138665192088912</title>\n<path fill=\"none\" stroke=\"black\" d=\"M284.11,-18.5C291.63,-18.5 300.32,-18.5 309.58,-18.5\"/>\n<polygon fill=\"black\" stroke=\"black\" points=\"309.81,-22 319.81,-18.5 309.81,-15 309.81,-22\"/>\n</g>\n<!-- 138665192226256 -->\n<g id=\"node8\" class=\"node\">\n<title>138665192226256</title>\n<polygon fill=\"none\" stroke=\"black\" points=\"2.5,-0.5 2.5,-36.5 191.5,-36.5 191.5,-0.5 2.5,-0.5\"/>\n<text text-anchor=\"middle\" x=\"14\" y=\"-14.8\" font-family=\"Times,serif\" font-size=\"14.00\">b</text>\n<polyline fill=\"none\" stroke=\"black\" points=\"25.5,-0.5 25.5,-36.5 \"/>\n<text text-anchor=\"middle\" x=\"65.5\" y=\"-14.8\" font-family=\"Times,serif\" font-size=\"14.00\">data 3.0000</text>\n<polyline fill=\"none\" stroke=\"black\" points=\"105.5,-0.5 105.5,-36.5 \"/>\n<text text-anchor=\"middle\" x=\"148.5\" y=\"-14.8\" font-family=\"Times,serif\" font-size=\"14.00\">grad &#45;8.0000</text>\n</g>\n<!-- 138665192226256&#45;&gt;138665192226384+ -->\n<g id=\"edge7\" class=\"edge\">\n<title>138665192226256&#45;&gt;138665192226384+</title>\n<path fill=\"none\" stroke=\"black\" d=\"M163.94,-36.53C174.08,-39.65 184.37,-43.01 194,-46.5 204.27,-50.22 215.26,-54.8 225.09,-59.12\"/>\n<polygon fill=\"black\" stroke=\"black\" points=\"223.91,-62.43 234.47,-63.32 226.77,-56.04 223.91,-62.43\"/>\n</g>\n<!-- 138665192226256&#45;&gt;138665192088912* -->\n<g id=\"edge5\" class=\"edge\">\n<title>138665192226256&#45;&gt;138665192088912*</title>\n<path fill=\"none\" stroke=\"black\" d=\"M191.74,-18.5C201.55,-18.5 211.04,-18.5 219.59,-18.5\"/>\n<polygon fill=\"black\" stroke=\"black\" points=\"219.87,-22 229.87,-18.5 219.87,-15 219.87,-22\"/>\n</g>\n</g>\n</svg>\n",
            "text/plain": [
              "<graphviz.graphs.Digraph at 0x7e1d81805f90>"
            ]
          },
          "metadata": {},
          "execution_count": 34
        }
      ]
    },
    {
      "cell_type": "code",
      "source": [
        "#inputs\n",
        "x1 = Value(2.0, label = 'x1')\n",
        "x2 = Value(0.0, label = 'x2')\n",
        "#weights\n",
        "w1 = Value(-3.0, label = 'w1')\n",
        "w2 = Value(1.0, label = 'w2')\n",
        "b = Value(6.8813735870195432, label = 'b')\n",
        "x1w1 = x1*w1; label = 'x1w1'\n",
        "x2w2 = x2*w2; label = 'x2w2'\n",
        "x1w1x2w2 = x1w1 + x2w2; label = 'x1*w1 + x2*w2'\n",
        "n = x1w1x2w2 + b; n.label = 'n'\n",
        "o = n.tanh(); o.label = 'o'\n",
        "o.backward()"
      ],
      "metadata": {
        "id": "b4UXkjU-bbu6"
      },
      "execution_count": null,
      "outputs": []
    },
    {
      "cell_type": "code",
      "source": [
        "draw_dot(o)"
      ],
      "metadata": {
        "colab": {
          "base_uri": "https://localhost:8080/",
          "height": 322
        },
        "id": "kf5fUjCNd7t7",
        "outputId": "87e23204-3b27-45a6-df12-c75cf389066a"
      },
      "execution_count": null,
      "outputs": [
        {
          "output_type": "execute_result",
          "data": {
            "image/svg+xml": "<?xml version=\"1.0\" encoding=\"UTF-8\" standalone=\"no\"?>\n<!DOCTYPE svg PUBLIC \"-//W3C//DTD SVG 1.1//EN\"\n \"http://www.w3.org/Graphics/SVG/1.1/DTD/svg11.dtd\">\n<!-- Generated by graphviz version 2.43.0 (0)\n -->\n<!-- Title: %3 Pages: 1 -->\n<svg width=\"1456pt\" height=\"210pt\"\n viewBox=\"0.00 0.00 1456.00 210.00\" xmlns=\"http://www.w3.org/2000/svg\" xmlns:xlink=\"http://www.w3.org/1999/xlink\">\n<g id=\"graph0\" class=\"graph\" transform=\"scale(1 1) rotate(0) translate(4 206)\">\n<title>%3</title>\n<polygon fill=\"white\" stroke=\"transparent\" points=\"-4,4 -4,-206 1452,-206 1452,4 -4,4\"/>\n<!-- 138665192149072 -->\n<g id=\"node1\" class=\"node\">\n<title>138665192149072</title>\n<polygon fill=\"none\" stroke=\"black\" points=\"328.5,-55.5 328.5,-91.5 510.5,-91.5 510.5,-55.5 328.5,-55.5\"/>\n<text text-anchor=\"middle\" x=\"338.5\" y=\"-69.8\" font-family=\"Times,serif\" font-size=\"14.00\"> </text>\n<polyline fill=\"none\" stroke=\"black\" points=\"348.5,-55.5 348.5,-91.5 \"/>\n<text text-anchor=\"middle\" x=\"388.5\" y=\"-69.8\" font-family=\"Times,serif\" font-size=\"14.00\">data 0.0000</text>\n<polyline fill=\"none\" stroke=\"black\" points=\"428.5,-55.5 428.5,-91.5 \"/>\n<text text-anchor=\"middle\" x=\"469.5\" y=\"-69.8\" font-family=\"Times,serif\" font-size=\"14.00\">grad 0.5000</text>\n</g>\n<!-- 138665192156752+ -->\n<g id=\"node4\" class=\"node\">\n<title>138665192156752+</title>\n<ellipse fill=\"none\" stroke=\"black\" cx=\"576\" cy=\"-100.5\" rx=\"27\" ry=\"18\"/>\n<text text-anchor=\"middle\" x=\"576\" y=\"-96.8\" font-family=\"Times,serif\" font-size=\"14.00\">+</text>\n</g>\n<!-- 138665192149072&#45;&gt;138665192156752+ -->\n<g id=\"edge9\" class=\"edge\">\n<title>138665192149072&#45;&gt;138665192156752+</title>\n<path fill=\"none\" stroke=\"black\" d=\"M510.82,-89.28C521.07,-91.08 531.01,-92.81 539.88,-94.36\"/>\n<polygon fill=\"black\" stroke=\"black\" points=\"539.3,-97.81 549.75,-96.09 540.5,-90.92 539.3,-97.81\"/>\n</g>\n<!-- 138665192149072* -->\n<g id=\"node2\" class=\"node\">\n<title>138665192149072*</title>\n<ellipse fill=\"none\" stroke=\"black\" cx=\"263\" cy=\"-73.5\" rx=\"27\" ry=\"18\"/>\n<text text-anchor=\"middle\" x=\"263\" y=\"-69.8\" font-family=\"Times,serif\" font-size=\"14.00\">*</text>\n</g>\n<!-- 138665192149072*&#45;&gt;138665192149072 -->\n<g id=\"edge1\" class=\"edge\">\n<title>138665192149072*&#45;&gt;138665192149072</title>\n<path fill=\"none\" stroke=\"black\" d=\"M290.21,-73.5C298.34,-73.5 307.85,-73.5 317.94,-73.5\"/>\n<polygon fill=\"black\" stroke=\"black\" points=\"318.19,-77 328.19,-73.5 318.19,-70 318.19,-77\"/>\n</g>\n<!-- 138665192156752 -->\n<g id=\"node3\" class=\"node\">\n<title>138665192156752</title>\n<polygon fill=\"none\" stroke=\"black\" points=\"639,-82.5 639,-118.5 826,-118.5 826,-82.5 639,-82.5\"/>\n<text text-anchor=\"middle\" x=\"649\" y=\"-96.8\" font-family=\"Times,serif\" font-size=\"14.00\"> </text>\n<polyline fill=\"none\" stroke=\"black\" points=\"659,-82.5 659,-118.5 \"/>\n<text text-anchor=\"middle\" x=\"701.5\" y=\"-96.8\" font-family=\"Times,serif\" font-size=\"14.00\">data &#45;6.0000</text>\n<polyline fill=\"none\" stroke=\"black\" points=\"744,-82.5 744,-118.5 \"/>\n<text text-anchor=\"middle\" x=\"785\" y=\"-96.8\" font-family=\"Times,serif\" font-size=\"14.00\">grad 0.5000</text>\n</g>\n<!-- 138665192156944+ -->\n<g id=\"node11\" class=\"node\">\n<title>138665192156944+</title>\n<ellipse fill=\"none\" stroke=\"black\" cx=\"889\" cy=\"-127.5\" rx=\"27\" ry=\"18\"/>\n<text text-anchor=\"middle\" x=\"889\" y=\"-123.8\" font-family=\"Times,serif\" font-size=\"14.00\">+</text>\n</g>\n<!-- 138665192156752&#45;&gt;138665192156944+ -->\n<g id=\"edge13\" class=\"edge\">\n<title>138665192156752&#45;&gt;138665192156944+</title>\n<path fill=\"none\" stroke=\"black\" d=\"M826.05,-116.67C835.34,-118.3 844.33,-119.87 852.44,-121.29\"/>\n<polygon fill=\"black\" stroke=\"black\" points=\"852.1,-124.78 862.55,-123.05 853.3,-117.88 852.1,-124.78\"/>\n</g>\n<!-- 138665192156752+&#45;&gt;138665192156752 -->\n<g id=\"edge2\" class=\"edge\">\n<title>138665192156752+&#45;&gt;138665192156752</title>\n<path fill=\"none\" stroke=\"black\" d=\"M603.21,-100.5C610.73,-100.5 619.43,-100.5 628.67,-100.5\"/>\n<polygon fill=\"black\" stroke=\"black\" points=\"628.89,-104 638.89,-100.5 628.89,-97 628.89,-104\"/>\n</g>\n<!-- 138665192159824 -->\n<g id=\"node5\" class=\"node\">\n<title>138665192159824</title>\n<polygon fill=\"none\" stroke=\"black\" points=\"2.5,-55.5 2.5,-91.5 197.5,-91.5 197.5,-55.5 2.5,-55.5\"/>\n<text text-anchor=\"middle\" x=\"19\" y=\"-69.8\" font-family=\"Times,serif\" font-size=\"14.00\">w2</text>\n<polyline fill=\"none\" stroke=\"black\" points=\"35.5,-55.5 35.5,-91.5 \"/>\n<text text-anchor=\"middle\" x=\"75.5\" y=\"-69.8\" font-family=\"Times,serif\" font-size=\"14.00\">data 1.0000</text>\n<polyline fill=\"none\" stroke=\"black\" points=\"115.5,-55.5 115.5,-91.5 \"/>\n<text text-anchor=\"middle\" x=\"156.5\" y=\"-69.8\" font-family=\"Times,serif\" font-size=\"14.00\">grad 0.0000</text>\n</g>\n<!-- 138665192159824&#45;&gt;138665192149072* -->\n<g id=\"edge14\" class=\"edge\">\n<title>138665192159824&#45;&gt;138665192149072*</title>\n<path fill=\"none\" stroke=\"black\" d=\"M197.91,-73.5C207.65,-73.5 217.05,-73.5 225.52,-73.5\"/>\n<polygon fill=\"black\" stroke=\"black\" points=\"225.7,-77 235.7,-73.5 225.7,-70 225.7,-77\"/>\n</g>\n<!-- 138665192155216 -->\n<g id=\"node6\" class=\"node\">\n<title>138665192155216</title>\n<polygon fill=\"none\" stroke=\"black\" points=\"2,-165.5 2,-201.5 198,-201.5 198,-165.5 2,-165.5\"/>\n<text text-anchor=\"middle\" x=\"17\" y=\"-179.8\" font-family=\"Times,serif\" font-size=\"14.00\">x1</text>\n<polyline fill=\"none\" stroke=\"black\" points=\"32,-165.5 32,-201.5 \"/>\n<text text-anchor=\"middle\" x=\"72\" y=\"-179.8\" font-family=\"Times,serif\" font-size=\"14.00\">data 2.0000</text>\n<polyline fill=\"none\" stroke=\"black\" points=\"112,-165.5 112,-201.5 \"/>\n<text text-anchor=\"middle\" x=\"155\" y=\"-179.8\" font-family=\"Times,serif\" font-size=\"14.00\">grad &#45;1.5000</text>\n</g>\n<!-- 138665192147152* -->\n<g id=\"node9\" class=\"node\">\n<title>138665192147152*</title>\n<ellipse fill=\"none\" stroke=\"black\" cx=\"263\" cy=\"-128.5\" rx=\"27\" ry=\"18\"/>\n<text text-anchor=\"middle\" x=\"263\" y=\"-124.8\" font-family=\"Times,serif\" font-size=\"14.00\">*</text>\n</g>\n<!-- 138665192155216&#45;&gt;138665192147152* -->\n<g id=\"edge11\" class=\"edge\">\n<title>138665192155216&#45;&gt;138665192147152*</title>\n<path fill=\"none\" stroke=\"black\" d=\"M172.53,-165.44C181.84,-162.67 191.2,-159.67 200,-156.5 210.53,-152.71 221.75,-147.9 231.72,-143.33\"/>\n<polygon fill=\"black\" stroke=\"black\" points=\"233.25,-146.48 240.82,-139.07 230.28,-140.14 233.25,-146.48\"/>\n</g>\n<!-- 138665192159376 -->\n<g id=\"node7\" class=\"node\">\n<title>138665192159376</title>\n<polygon fill=\"none\" stroke=\"black\" points=\"640,-137.5 640,-173.5 825,-173.5 825,-137.5 640,-137.5\"/>\n<text text-anchor=\"middle\" x=\"651.5\" y=\"-151.8\" font-family=\"Times,serif\" font-size=\"14.00\">b</text>\n<polyline fill=\"none\" stroke=\"black\" points=\"663,-137.5 663,-173.5 \"/>\n<text text-anchor=\"middle\" x=\"703\" y=\"-151.8\" font-family=\"Times,serif\" font-size=\"14.00\">data 6.8814</text>\n<polyline fill=\"none\" stroke=\"black\" points=\"743,-137.5 743,-173.5 \"/>\n<text text-anchor=\"middle\" x=\"784\" y=\"-151.8\" font-family=\"Times,serif\" font-size=\"14.00\">grad 0.5000</text>\n</g>\n<!-- 138665192159376&#45;&gt;138665192156944+ -->\n<g id=\"edge8\" class=\"edge\">\n<title>138665192159376&#45;&gt;138665192156944+</title>\n<path fill=\"none\" stroke=\"black\" d=\"M825.16,-138.89C834.84,-137.13 844.22,-135.43 852.64,-133.91\"/>\n<polygon fill=\"black\" stroke=\"black\" points=\"853.53,-137.3 862.75,-132.08 852.28,-130.42 853.53,-137.3\"/>\n</g>\n<!-- 138665192147152 -->\n<g id=\"node8\" class=\"node\">\n<title>138665192147152</title>\n<polygon fill=\"none\" stroke=\"black\" points=\"326,-110.5 326,-146.5 513,-146.5 513,-110.5 326,-110.5\"/>\n<text text-anchor=\"middle\" x=\"336\" y=\"-124.8\" font-family=\"Times,serif\" font-size=\"14.00\"> </text>\n<polyline fill=\"none\" stroke=\"black\" points=\"346,-110.5 346,-146.5 \"/>\n<text text-anchor=\"middle\" x=\"388.5\" y=\"-124.8\" font-family=\"Times,serif\" font-size=\"14.00\">data &#45;6.0000</text>\n<polyline fill=\"none\" stroke=\"black\" points=\"431,-110.5 431,-146.5 \"/>\n<text text-anchor=\"middle\" x=\"472\" y=\"-124.8\" font-family=\"Times,serif\" font-size=\"14.00\">grad 0.5000</text>\n</g>\n<!-- 138665192147152&#45;&gt;138665192156752+ -->\n<g id=\"edge6\" class=\"edge\">\n<title>138665192147152&#45;&gt;138665192156752+</title>\n<path fill=\"none\" stroke=\"black\" d=\"M513.05,-111.73C522.54,-110.01 531.71,-108.35 539.95,-106.85\"/>\n<polygon fill=\"black\" stroke=\"black\" points=\"540.64,-110.28 549.85,-105.06 539.39,-103.4 540.64,-110.28\"/>\n</g>\n<!-- 138665192147152*&#45;&gt;138665192147152 -->\n<g id=\"edge3\" class=\"edge\">\n<title>138665192147152*&#45;&gt;138665192147152</title>\n<path fill=\"none\" stroke=\"black\" d=\"M290.21,-128.5C297.73,-128.5 306.43,-128.5 315.67,-128.5\"/>\n<polygon fill=\"black\" stroke=\"black\" points=\"315.89,-132 325.89,-128.5 315.89,-125 315.89,-132\"/>\n</g>\n<!-- 138665192156944 -->\n<g id=\"node10\" class=\"node\">\n<title>138665192156944</title>\n<polygon fill=\"none\" stroke=\"black\" points=\"952,-109.5 952,-145.5 1137,-145.5 1137,-109.5 952,-109.5\"/>\n<text text-anchor=\"middle\" x=\"963.5\" y=\"-123.8\" font-family=\"Times,serif\" font-size=\"14.00\">n</text>\n<polyline fill=\"none\" stroke=\"black\" points=\"975,-109.5 975,-145.5 \"/>\n<text text-anchor=\"middle\" x=\"1015\" y=\"-123.8\" font-family=\"Times,serif\" font-size=\"14.00\">data 0.8814</text>\n<polyline fill=\"none\" stroke=\"black\" points=\"1055,-109.5 1055,-145.5 \"/>\n<text text-anchor=\"middle\" x=\"1096\" y=\"-123.8\" font-family=\"Times,serif\" font-size=\"14.00\">grad 0.5000</text>\n</g>\n<!-- 138665191975824tanh -->\n<g id=\"node15\" class=\"node\">\n<title>138665191975824tanh</title>\n<ellipse fill=\"none\" stroke=\"black\" cx=\"1200\" cy=\"-127.5\" rx=\"27\" ry=\"18\"/>\n<text text-anchor=\"middle\" x=\"1200\" y=\"-123.8\" font-family=\"Times,serif\" font-size=\"14.00\">tanh</text>\n</g>\n<!-- 138665192156944&#45;&gt;138665191975824tanh -->\n<g id=\"edge12\" class=\"edge\">\n<title>138665192156944&#45;&gt;138665191975824tanh</title>\n<path fill=\"none\" stroke=\"black\" d=\"M1137.01,-127.5C1146.01,-127.5 1154.74,-127.5 1162.66,-127.5\"/>\n<polygon fill=\"black\" stroke=\"black\" points=\"1162.91,-131 1172.91,-127.5 1162.91,-124 1162.91,-131\"/>\n</g>\n<!-- 138665192156944+&#45;&gt;138665192156944 -->\n<g id=\"edge4\" class=\"edge\">\n<title>138665192156944+&#45;&gt;138665192156944</title>\n<path fill=\"none\" stroke=\"black\" d=\"M916.04,-127.5C923.58,-127.5 932.3,-127.5 941.57,-127.5\"/>\n<polygon fill=\"black\" stroke=\"black\" points=\"941.81,-131 951.81,-127.5 941.81,-124 941.81,-131\"/>\n</g>\n<!-- 138665192151312 -->\n<g id=\"node12\" class=\"node\">\n<title>138665192151312</title>\n<polygon fill=\"none\" stroke=\"black\" points=\"4,-0.5 4,-36.5 196,-36.5 196,-0.5 4,-0.5\"/>\n<text text-anchor=\"middle\" x=\"19\" y=\"-14.8\" font-family=\"Times,serif\" font-size=\"14.00\">x2</text>\n<polyline fill=\"none\" stroke=\"black\" points=\"34,-0.5 34,-36.5 \"/>\n<text text-anchor=\"middle\" x=\"74\" y=\"-14.8\" font-family=\"Times,serif\" font-size=\"14.00\">data 0.0000</text>\n<polyline fill=\"none\" stroke=\"black\" points=\"114,-0.5 114,-36.5 \"/>\n<text text-anchor=\"middle\" x=\"155\" y=\"-14.8\" font-family=\"Times,serif\" font-size=\"14.00\">grad 0.5000</text>\n</g>\n<!-- 138665192151312&#45;&gt;138665192149072* -->\n<g id=\"edge7\" class=\"edge\">\n<title>138665192151312&#45;&gt;138665192149072*</title>\n<path fill=\"none\" stroke=\"black\" d=\"M169.28,-36.5C179.65,-39.61 190.16,-42.98 200,-46.5 210.28,-50.17 221.28,-54.74 231.11,-59.07\"/>\n<polygon fill=\"black\" stroke=\"black\" points=\"229.93,-62.37 240.48,-63.27 232.79,-55.99 229.93,-62.37\"/>\n</g>\n<!-- 138665192149328 -->\n<g id=\"node13\" class=\"node\">\n<title>138665192149328</title>\n<polygon fill=\"none\" stroke=\"black\" points=\"0,-110.5 0,-146.5 200,-146.5 200,-110.5 0,-110.5\"/>\n<text text-anchor=\"middle\" x=\"16.5\" y=\"-124.8\" font-family=\"Times,serif\" font-size=\"14.00\">w1</text>\n<polyline fill=\"none\" stroke=\"black\" points=\"33,-110.5 33,-146.5 \"/>\n<text text-anchor=\"middle\" x=\"75.5\" y=\"-124.8\" font-family=\"Times,serif\" font-size=\"14.00\">data &#45;3.0000</text>\n<polyline fill=\"none\" stroke=\"black\" points=\"118,-110.5 118,-146.5 \"/>\n<text text-anchor=\"middle\" x=\"159\" y=\"-124.8\" font-family=\"Times,serif\" font-size=\"14.00\">grad 1.0000</text>\n</g>\n<!-- 138665192149328&#45;&gt;138665192147152* -->\n<g id=\"edge10\" class=\"edge\">\n<title>138665192149328&#45;&gt;138665192147152*</title>\n<path fill=\"none\" stroke=\"black\" d=\"M200.21,-128.5C209.2,-128.5 217.86,-128.5 225.7,-128.5\"/>\n<polygon fill=\"black\" stroke=\"black\" points=\"225.85,-132 235.85,-128.5 225.85,-125 225.85,-132\"/>\n</g>\n<!-- 138665191975824 -->\n<g id=\"node14\" class=\"node\">\n<title>138665191975824</title>\n<polygon fill=\"none\" stroke=\"black\" points=\"1263,-109.5 1263,-145.5 1448,-145.5 1448,-109.5 1263,-109.5\"/>\n<text text-anchor=\"middle\" x=\"1274.5\" y=\"-123.8\" font-family=\"Times,serif\" font-size=\"14.00\">o</text>\n<polyline fill=\"none\" stroke=\"black\" points=\"1286,-109.5 1286,-145.5 \"/>\n<text text-anchor=\"middle\" x=\"1326\" y=\"-123.8\" font-family=\"Times,serif\" font-size=\"14.00\">data 0.7071</text>\n<polyline fill=\"none\" stroke=\"black\" points=\"1366,-109.5 1366,-145.5 \"/>\n<text text-anchor=\"middle\" x=\"1407\" y=\"-123.8\" font-family=\"Times,serif\" font-size=\"14.00\">grad 1.0000</text>\n</g>\n<!-- 138665191975824tanh&#45;&gt;138665191975824 -->\n<g id=\"edge5\" class=\"edge\">\n<title>138665191975824tanh&#45;&gt;138665191975824</title>\n<path fill=\"none\" stroke=\"black\" d=\"M1227.04,-127.5C1234.58,-127.5 1243.3,-127.5 1252.57,-127.5\"/>\n<polygon fill=\"black\" stroke=\"black\" points=\"1252.81,-131 1262.81,-127.5 1252.81,-124 1252.81,-131\"/>\n</g>\n</g>\n</svg>\n",
            "text/plain": [
              "<graphviz.graphs.Digraph at 0x7e1d81893810>"
            ]
          },
          "metadata": {},
          "execution_count": 36
        }
      ]
    },
    {
      "cell_type": "code",
      "source": [
        "from graphviz import Digraph\n",
        "\n",
        "def trace(root):\n",
        "  # builds a set of all nodes and edges in a graph\n",
        "  nodes, edges = set(), set()\n",
        "  def build(v):\n",
        "    if v not in nodes:\n",
        "      nodes.add(v)\n",
        "      for child in v._prev:\n",
        "        edges.add((child, v))\n",
        "        build(child)\n",
        "  build(root)\n",
        "  return nodes, edges\n",
        "\n",
        "def draw_dot(root):\n",
        "  dot = Digraph(format='svg', graph_attr={'rankdir': 'LR'}) # LR = left to right\n",
        "\n",
        "  nodes, edges = trace(root)\n",
        "  for n in nodes:\n",
        "    uid = str(id(n))\n",
        "    # for any value in the graph, create a rectangular ('record') node for it\n",
        "    dot.node(name = uid, label = \"{ %s | data %.4f | grad %.4f }\" % (n.label, n.data, n.grad), shape='record')\n",
        "    if n._op:\n",
        "      # if this value is a result of some operation, create an op node for it\n",
        "      dot.node(name = uid + n._op, label = n._op)\n",
        "      # and connect this node to it\n",
        "      dot.edge(uid + n._op, uid)\n",
        "\n",
        "  for n1, n2 in edges:\n",
        "    # connect n1 to the op node of n2\n",
        "    dot.edge(str(id(n1)), str(id(n2)) + n2._op)\n",
        "\n",
        "  return dot"
      ],
      "metadata": {
        "id": "hUwapZBkfxTz"
      },
      "execution_count": null,
      "outputs": []
    },
    {
      "cell_type": "code",
      "source": [
        "# inputs x1,x2\n",
        "x1 = Value(2.0, label='x1')\n",
        "x2 = Value(0.0, label='x2')\n",
        "# weights w1,w2\n",
        "w1 = Value(-3.0, label='w1')\n",
        "w2 = Value(1.0, label='w2')\n",
        "# bias of the neuron\n",
        "b = Value(6.8813735870195432, label='b')\n",
        "# x1*w1 + x2*w2 + b\n",
        "x1w1 = x1*w1; x1w1.label = 'x1*w1'\n",
        "x2w2 = x2*w2; x2w2.label = 'x2*w2'\n",
        "x1w1x2w2 = x1w1 + x2w2; x1w1x2w2.label = 'x1*w1 + x2*w2'\n",
        "n = x1w1x2w2 + b; n.label = 'n'\n",
        "# ----\n",
        "e = (2*n).exp()\n",
        "o = (e - 1) / (e + 1)\n",
        "# ----\n",
        "o.label = 'o'\n",
        "o.backward()\n",
        "draw_dot(o)"
      ],
      "metadata": {
        "colab": {
          "base_uri": "https://localhost:8080/",
          "height": 360
        },
        "id": "DApTp3ugeVkV",
        "outputId": "af27f23b-3c34-4b96-bfb5-faf7b588b1c5"
      },
      "execution_count": null,
      "outputs": [
        {
          "output_type": "execute_result",
          "data": {
            "image/svg+xml": "<?xml version=\"1.0\" encoding=\"UTF-8\" standalone=\"no\"?>\n<!DOCTYPE svg PUBLIC \"-//W3C//DTD SVG 1.1//EN\"\n \"http://www.w3.org/Graphics/SVG/1.1/DTD/svg11.dtd\">\n<!-- Generated by graphviz version 2.43.0 (0)\n -->\n<!-- Title: %3 Pages: 1 -->\n<svg width=\"2944pt\" height=\"239pt\"\n viewBox=\"0.00 0.00 2944.00 239.00\" xmlns=\"http://www.w3.org/2000/svg\" xmlns:xlink=\"http://www.w3.org/1999/xlink\">\n<g id=\"graph0\" class=\"graph\" transform=\"scale(1 1) rotate(0) translate(4 235)\">\n<title>%3</title>\n<polygon fill=\"white\" stroke=\"transparent\" points=\"-4,4 -4,-235 2940,-235 2940,4 -4,4\"/>\n<!-- 138665207851536 -->\n<g id=\"node1\" class=\"node\">\n<title>138665207851536</title>\n<polygon fill=\"none\" stroke=\"black\" points=\"1692.5,-55.5 1692.5,-91.5 1874.5,-91.5 1874.5,-55.5 1692.5,-55.5\"/>\n<text text-anchor=\"middle\" x=\"1702.5\" y=\"-69.8\" font-family=\"Times,serif\" font-size=\"14.00\"> </text>\n<polyline fill=\"none\" stroke=\"black\" points=\"1712.5,-55.5 1712.5,-91.5 \"/>\n<text text-anchor=\"middle\" x=\"1752.5\" y=\"-69.8\" font-family=\"Times,serif\" font-size=\"14.00\">data 5.8284</text>\n<polyline fill=\"none\" stroke=\"black\" points=\"1792.5,-55.5 1792.5,-91.5 \"/>\n<text text-anchor=\"middle\" x=\"1833.5\" y=\"-69.8\" font-family=\"Times,serif\" font-size=\"14.00\">grad 0.0429</text>\n</g>\n<!-- 138665191019280+ -->\n<g id=\"node18\" class=\"node\">\n<title>138665191019280+</title>\n<ellipse fill=\"none\" stroke=\"black\" cx=\"1940\" cy=\"-45.5\" rx=\"27\" ry=\"18\"/>\n<text text-anchor=\"middle\" x=\"1940\" y=\"-41.8\" font-family=\"Times,serif\" font-size=\"14.00\">+</text>\n</g>\n<!-- 138665207851536&#45;&gt;138665191019280+ -->\n<g id=\"edge13\" class=\"edge\">\n<title>138665207851536&#45;&gt;138665191019280+</title>\n<path fill=\"none\" stroke=\"black\" d=\"M1874.82,-57.13C1885.07,-55.27 1895.01,-53.47 1903.88,-51.87\"/>\n<polygon fill=\"black\" stroke=\"black\" points=\"1904.54,-55.3 1913.75,-50.08 1903.29,-48.42 1904.54,-55.3\"/>\n</g>\n<!-- 138665191975760+ -->\n<g id=\"node24\" class=\"node\">\n<title>138665191975760+</title>\n<ellipse fill=\"none\" stroke=\"black\" cx=\"1940\" cy=\"-100.5\" rx=\"27\" ry=\"18\"/>\n<text text-anchor=\"middle\" x=\"1940\" y=\"-96.8\" font-family=\"Times,serif\" font-size=\"14.00\">+</text>\n</g>\n<!-- 138665207851536&#45;&gt;138665191975760+ -->\n<g id=\"edge17\" class=\"edge\">\n<title>138665207851536&#45;&gt;138665191975760+</title>\n<path fill=\"none\" stroke=\"black\" d=\"M1874.82,-89.28C1885.07,-91.08 1895.01,-92.81 1903.88,-94.36\"/>\n<polygon fill=\"black\" stroke=\"black\" points=\"1903.3,-97.81 1913.75,-96.09 1904.5,-90.92 1903.3,-97.81\"/>\n</g>\n<!-- 138665207851536exp -->\n<g id=\"node2\" class=\"node\">\n<title>138665207851536exp</title>\n<ellipse fill=\"none\" stroke=\"black\" cx=\"1627\" cy=\"-73.5\" rx=\"27\" ry=\"18\"/>\n<text text-anchor=\"middle\" x=\"1627\" y=\"-69.8\" font-family=\"Times,serif\" font-size=\"14.00\">exp</text>\n</g>\n<!-- 138665207851536exp&#45;&gt;138665207851536 -->\n<g id=\"edge1\" class=\"edge\">\n<title>138665207851536exp&#45;&gt;138665207851536</title>\n<path fill=\"none\" stroke=\"black\" d=\"M1654.21,-73.5C1662.34,-73.5 1671.85,-73.5 1681.94,-73.5\"/>\n<polygon fill=\"black\" stroke=\"black\" points=\"1682.19,-77 1692.19,-73.5 1682.19,-70 1682.19,-77\"/>\n</g>\n<!-- 138665192018448 -->\n<g id=\"node3\" class=\"node\">\n<title>138665192018448</title>\n<polygon fill=\"none\" stroke=\"black\" points=\"0,-84.5 0,-120.5 200,-120.5 200,-84.5 0,-84.5\"/>\n<text text-anchor=\"middle\" x=\"16.5\" y=\"-98.8\" font-family=\"Times,serif\" font-size=\"14.00\">w1</text>\n<polyline fill=\"none\" stroke=\"black\" points=\"33,-84.5 33,-120.5 \"/>\n<text text-anchor=\"middle\" x=\"75.5\" y=\"-98.8\" font-family=\"Times,serif\" font-size=\"14.00\">data &#45;3.0000</text>\n<polyline fill=\"none\" stroke=\"black\" points=\"118,-84.5 118,-120.5 \"/>\n<text text-anchor=\"middle\" x=\"159\" y=\"-98.8\" font-family=\"Times,serif\" font-size=\"14.00\">grad 1.0000</text>\n</g>\n<!-- 138665192408272* -->\n<g id=\"node16\" class=\"node\">\n<title>138665192408272*</title>\n<ellipse fill=\"none\" stroke=\"black\" cx=\"263\" cy=\"-102.5\" rx=\"27\" ry=\"18\"/>\n<text text-anchor=\"middle\" x=\"263\" y=\"-98.8\" font-family=\"Times,serif\" font-size=\"14.00\">*</text>\n</g>\n<!-- 138665192018448&#45;&gt;138665192408272* -->\n<g id=\"edge24\" class=\"edge\">\n<title>138665192018448&#45;&gt;138665192408272*</title>\n<path fill=\"none\" stroke=\"black\" d=\"M200.21,-102.5C209.2,-102.5 217.86,-102.5 225.7,-102.5\"/>\n<polygon fill=\"black\" stroke=\"black\" points=\"225.85,-106 235.85,-102.5 225.85,-99 225.85,-106\"/>\n</g>\n<!-- 138665191980112 -->\n<g id=\"node4\" class=\"node\">\n<title>138665191980112</title>\n<polygon fill=\"none\" stroke=\"black\" points=\"1382,-55.5 1382,-91.5 1564,-91.5 1564,-55.5 1382,-55.5\"/>\n<text text-anchor=\"middle\" x=\"1392\" y=\"-69.8\" font-family=\"Times,serif\" font-size=\"14.00\"> </text>\n<polyline fill=\"none\" stroke=\"black\" points=\"1402,-55.5 1402,-91.5 \"/>\n<text text-anchor=\"middle\" x=\"1442\" y=\"-69.8\" font-family=\"Times,serif\" font-size=\"14.00\">data 1.7627</text>\n<polyline fill=\"none\" stroke=\"black\" points=\"1482,-55.5 1482,-91.5 \"/>\n<text text-anchor=\"middle\" x=\"1523\" y=\"-69.8\" font-family=\"Times,serif\" font-size=\"14.00\">grad 0.2500</text>\n</g>\n<!-- 138665191980112&#45;&gt;138665207851536exp -->\n<g id=\"edge16\" class=\"edge\">\n<title>138665191980112&#45;&gt;138665207851536exp</title>\n<path fill=\"none\" stroke=\"black\" d=\"M1564.18,-73.5C1573.14,-73.5 1581.83,-73.5 1589.73,-73.5\"/>\n<polygon fill=\"black\" stroke=\"black\" points=\"1589.96,-77 1599.96,-73.5 1589.96,-70 1589.96,-77\"/>\n</g>\n<!-- 138665191980112* -->\n<g id=\"node5\" class=\"node\">\n<title>138665191980112*</title>\n<ellipse fill=\"none\" stroke=\"black\" cx=\"1319\" cy=\"-73.5\" rx=\"27\" ry=\"18\"/>\n<text text-anchor=\"middle\" x=\"1319\" y=\"-69.8\" font-family=\"Times,serif\" font-size=\"14.00\">*</text>\n</g>\n<!-- 138665191980112*&#45;&gt;138665191980112 -->\n<g id=\"edge2\" class=\"edge\">\n<title>138665191980112*&#45;&gt;138665191980112</title>\n<path fill=\"none\" stroke=\"black\" d=\"M1346.13,-73.5C1353.67,-73.5 1362.39,-73.5 1371.64,-73.5\"/>\n<polygon fill=\"black\" stroke=\"black\" points=\"1371.87,-77 1381.87,-73.5 1371.87,-70 1371.87,-77\"/>\n</g>\n<!-- 138665191976592 -->\n<g id=\"node6\" class=\"node\">\n<title>138665191976592</title>\n<polygon fill=\"none\" stroke=\"black\" points=\"1071,-83.5 1071,-119.5 1256,-119.5 1256,-83.5 1071,-83.5\"/>\n<text text-anchor=\"middle\" x=\"1082.5\" y=\"-97.8\" font-family=\"Times,serif\" font-size=\"14.00\">n</text>\n<polyline fill=\"none\" stroke=\"black\" points=\"1094,-83.5 1094,-119.5 \"/>\n<text text-anchor=\"middle\" x=\"1134\" y=\"-97.8\" font-family=\"Times,serif\" font-size=\"14.00\">data 0.8814</text>\n<polyline fill=\"none\" stroke=\"black\" points=\"1174,-83.5 1174,-119.5 \"/>\n<text text-anchor=\"middle\" x=\"1215\" y=\"-97.8\" font-family=\"Times,serif\" font-size=\"14.00\">grad 0.5000</text>\n</g>\n<!-- 138665191976592&#45;&gt;138665191980112* -->\n<g id=\"edge15\" class=\"edge\">\n<title>138665191976592&#45;&gt;138665191980112*</title>\n<path fill=\"none\" stroke=\"black\" d=\"M1256.01,-84.81C1265.49,-83.08 1274.66,-81.41 1282.9,-79.9\"/>\n<polygon fill=\"black\" stroke=\"black\" points=\"1283.6,-83.33 1292.81,-78.09 1282.35,-76.45 1283.6,-83.33\"/>\n</g>\n<!-- 138665191976592+ -->\n<g id=\"node7\" class=\"node\">\n<title>138665191976592+</title>\n<ellipse fill=\"none\" stroke=\"black\" cx=\"1008\" cy=\"-101.5\" rx=\"27\" ry=\"18\"/>\n<text text-anchor=\"middle\" x=\"1008\" y=\"-97.8\" font-family=\"Times,serif\" font-size=\"14.00\">+</text>\n</g>\n<!-- 138665191976592+&#45;&gt;138665191976592 -->\n<g id=\"edge3\" class=\"edge\">\n<title>138665191976592+&#45;&gt;138665191976592</title>\n<path fill=\"none\" stroke=\"black\" d=\"M1035.04,-101.5C1042.58,-101.5 1051.3,-101.5 1060.57,-101.5\"/>\n<polygon fill=\"black\" stroke=\"black\" points=\"1060.81,-105 1070.81,-101.5 1060.81,-98 1060.81,-105\"/>\n</g>\n<!-- 138665191972240 -->\n<g id=\"node8\" class=\"node\">\n<title>138665191972240</title>\n<polygon fill=\"none\" stroke=\"black\" points=\"1072.5,-28.5 1072.5,-64.5 1254.5,-64.5 1254.5,-28.5 1072.5,-28.5\"/>\n<text text-anchor=\"middle\" x=\"1082.5\" y=\"-42.8\" font-family=\"Times,serif\" font-size=\"14.00\"> </text>\n<polyline fill=\"none\" stroke=\"black\" points=\"1092.5,-28.5 1092.5,-64.5 \"/>\n<text text-anchor=\"middle\" x=\"1132.5\" y=\"-42.8\" font-family=\"Times,serif\" font-size=\"14.00\">data 2.0000</text>\n<polyline fill=\"none\" stroke=\"black\" points=\"1172.5,-28.5 1172.5,-64.5 \"/>\n<text text-anchor=\"middle\" x=\"1213.5\" y=\"-42.8\" font-family=\"Times,serif\" font-size=\"14.00\">grad 0.2203</text>\n</g>\n<!-- 138665191972240&#45;&gt;138665191980112* -->\n<g id=\"edge18\" class=\"edge\">\n<title>138665191972240&#45;&gt;138665191980112*</title>\n<path fill=\"none\" stroke=\"black\" d=\"M1254.68,-62.36C1264.61,-64.11 1274.23,-65.8 1282.84,-67.32\"/>\n<polygon fill=\"black\" stroke=\"black\" points=\"1282.36,-70.78 1292.81,-69.07 1283.57,-63.89 1282.36,-70.78\"/>\n</g>\n<!-- 138665191018192 -->\n<g id=\"node9\" class=\"node\">\n<title>138665191018192</title>\n<polygon fill=\"none\" stroke=\"black\" points=\"2443,-31.5 2443,-67.5 2625,-67.5 2625,-31.5 2443,-31.5\"/>\n<text text-anchor=\"middle\" x=\"2453\" y=\"-45.8\" font-family=\"Times,serif\" font-size=\"14.00\"> </text>\n<polyline fill=\"none\" stroke=\"black\" points=\"2463,-31.5 2463,-67.5 \"/>\n<text text-anchor=\"middle\" x=\"2503\" y=\"-45.8\" font-family=\"Times,serif\" font-size=\"14.00\">data 0.1464</text>\n<polyline fill=\"none\" stroke=\"black\" points=\"2543,-31.5 2543,-67.5 \"/>\n<text text-anchor=\"middle\" x=\"2584\" y=\"-45.8\" font-family=\"Times,serif\" font-size=\"14.00\">grad 4.8284</text>\n</g>\n<!-- 138665191025360* -->\n<g id=\"node12\" class=\"node\">\n<title>138665191025360*</title>\n<ellipse fill=\"none\" stroke=\"black\" cx=\"2688\" cy=\"-72.5\" rx=\"27\" ry=\"18\"/>\n<text text-anchor=\"middle\" x=\"2688\" y=\"-68.8\" font-family=\"Times,serif\" font-size=\"14.00\">*</text>\n</g>\n<!-- 138665191018192&#45;&gt;138665191025360* -->\n<g id=\"edge14\" class=\"edge\">\n<title>138665191018192&#45;&gt;138665191025360*</title>\n<path fill=\"none\" stroke=\"black\" d=\"M2625.18,-63.15C2634.42,-64.54 2643.38,-65.9 2651.47,-67.12\"/>\n<polygon fill=\"black\" stroke=\"black\" points=\"2651.15,-70.61 2661.56,-68.65 2652.19,-63.69 2651.15,-70.61\"/>\n</g>\n<!-- 138665191018192**&#45;1 -->\n<g id=\"node10\" class=\"node\">\n<title>138665191018192**&#45;1</title>\n<ellipse fill=\"none\" stroke=\"black\" cx=\"2316\" cy=\"-45.5\" rx=\"27\" ry=\"18\"/>\n<text text-anchor=\"middle\" x=\"2316\" y=\"-41.8\" font-family=\"Times,serif\" font-size=\"14.00\">**&#45;1</text>\n</g>\n<!-- 138665191018192**&#45;1&#45;&gt;138665191018192 -->\n<g id=\"edge4\" class=\"edge\">\n<title>138665191018192**&#45;1&#45;&gt;138665191018192</title>\n<path fill=\"none\" stroke=\"black\" d=\"M2343.05,-45.98C2365.53,-46.4 2399.48,-47.03 2432.5,-47.64\"/>\n<polygon fill=\"black\" stroke=\"black\" points=\"2432.64,-51.14 2442.7,-47.83 2432.77,-44.14 2432.64,-51.14\"/>\n</g>\n<!-- 138665191025360 -->\n<g id=\"node11\" class=\"node\">\n<title>138665191025360</title>\n<polygon fill=\"none\" stroke=\"black\" points=\"2751,-54.5 2751,-90.5 2936,-90.5 2936,-54.5 2751,-54.5\"/>\n<text text-anchor=\"middle\" x=\"2762.5\" y=\"-68.8\" font-family=\"Times,serif\" font-size=\"14.00\">o</text>\n<polyline fill=\"none\" stroke=\"black\" points=\"2774,-54.5 2774,-90.5 \"/>\n<text text-anchor=\"middle\" x=\"2814\" y=\"-68.8\" font-family=\"Times,serif\" font-size=\"14.00\">data 0.7071</text>\n<polyline fill=\"none\" stroke=\"black\" points=\"2854,-54.5 2854,-90.5 \"/>\n<text text-anchor=\"middle\" x=\"2895\" y=\"-68.8\" font-family=\"Times,serif\" font-size=\"14.00\">grad 1.0000</text>\n</g>\n<!-- 138665191025360*&#45;&gt;138665191025360 -->\n<g id=\"edge5\" class=\"edge\">\n<title>138665191025360*&#45;&gt;138665191025360</title>\n<path fill=\"none\" stroke=\"black\" d=\"M2715.04,-72.5C2722.58,-72.5 2731.3,-72.5 2740.57,-72.5\"/>\n<polygon fill=\"black\" stroke=\"black\" points=\"2740.81,-76 2750.81,-72.5 2740.81,-69 2740.81,-76\"/>\n</g>\n<!-- 138665191973584 -->\n<g id=\"node13\" class=\"node\">\n<title>138665191973584</title>\n<polygon fill=\"none\" stroke=\"black\" points=\"328.5,-139.5 328.5,-175.5 543.5,-175.5 543.5,-139.5 328.5,-139.5\"/>\n<text text-anchor=\"middle\" x=\"355\" y=\"-153.8\" font-family=\"Times,serif\" font-size=\"14.00\">x2*w2</text>\n<polyline fill=\"none\" stroke=\"black\" points=\"381.5,-139.5 381.5,-175.5 \"/>\n<text text-anchor=\"middle\" x=\"421.5\" y=\"-153.8\" font-family=\"Times,serif\" font-size=\"14.00\">data 0.0000</text>\n<polyline fill=\"none\" stroke=\"black\" points=\"461.5,-139.5 461.5,-175.5 \"/>\n<text text-anchor=\"middle\" x=\"502.5\" y=\"-153.8\" font-family=\"Times,serif\" font-size=\"14.00\">grad 0.5000</text>\n</g>\n<!-- 138665191966096+ -->\n<g id=\"node27\" class=\"node\">\n<title>138665191966096+</title>\n<ellipse fill=\"none\" stroke=\"black\" cx=\"609\" cy=\"-129.5\" rx=\"27\" ry=\"18\"/>\n<text text-anchor=\"middle\" x=\"609\" y=\"-125.8\" font-family=\"Times,serif\" font-size=\"14.00\">+</text>\n</g>\n<!-- 138665191973584&#45;&gt;138665191966096+ -->\n<g id=\"edge22\" class=\"edge\">\n<title>138665191973584&#45;&gt;138665191966096+</title>\n<path fill=\"none\" stroke=\"black\" d=\"M543.84,-140.01C554.01,-138.34 563.76,-136.74 572.44,-135.32\"/>\n<polygon fill=\"black\" stroke=\"black\" points=\"573.17,-138.75 582.47,-133.68 572.04,-131.84 573.17,-138.75\"/>\n</g>\n<!-- 138665191973584* -->\n<g id=\"node14\" class=\"node\">\n<title>138665191973584*</title>\n<ellipse fill=\"none\" stroke=\"black\" cx=\"263\" cy=\"-157.5\" rx=\"27\" ry=\"18\"/>\n<text text-anchor=\"middle\" x=\"263\" y=\"-153.8\" font-family=\"Times,serif\" font-size=\"14.00\">*</text>\n</g>\n<!-- 138665191973584*&#45;&gt;138665191973584 -->\n<g id=\"edge6\" class=\"edge\">\n<title>138665191973584*&#45;&gt;138665191973584</title>\n<path fill=\"none\" stroke=\"black\" d=\"M290.34,-157.5C298.51,-157.5 308.08,-157.5 318.36,-157.5\"/>\n<polygon fill=\"black\" stroke=\"black\" points=\"318.39,-161 328.39,-157.5 318.39,-154 318.39,-161\"/>\n</g>\n<!-- 138665192408272 -->\n<g id=\"node15\" class=\"node\">\n<title>138665192408272</title>\n<polygon fill=\"none\" stroke=\"black\" points=\"326,-84.5 326,-120.5 546,-120.5 546,-84.5 326,-84.5\"/>\n<text text-anchor=\"middle\" x=\"352.5\" y=\"-98.8\" font-family=\"Times,serif\" font-size=\"14.00\">x1*w1</text>\n<polyline fill=\"none\" stroke=\"black\" points=\"379,-84.5 379,-120.5 \"/>\n<text text-anchor=\"middle\" x=\"421.5\" y=\"-98.8\" font-family=\"Times,serif\" font-size=\"14.00\">data &#45;6.0000</text>\n<polyline fill=\"none\" stroke=\"black\" points=\"464,-84.5 464,-120.5 \"/>\n<text text-anchor=\"middle\" x=\"505\" y=\"-98.8\" font-family=\"Times,serif\" font-size=\"14.00\">grad 0.5000</text>\n</g>\n<!-- 138665192408272&#45;&gt;138665191966096+ -->\n<g id=\"edge21\" class=\"edge\">\n<title>138665192408272&#45;&gt;138665191966096+</title>\n<path fill=\"none\" stroke=\"black\" d=\"M546.27,-119.75C555.64,-121.23 564.6,-122.65 572.65,-123.92\"/>\n<polygon fill=\"black\" stroke=\"black\" points=\"572.23,-127.4 582.65,-125.5 573.32,-120.48 572.23,-127.4\"/>\n</g>\n<!-- 138665192408272*&#45;&gt;138665192408272 -->\n<g id=\"edge7\" class=\"edge\">\n<title>138665192408272*&#45;&gt;138665192408272</title>\n<path fill=\"none\" stroke=\"black\" d=\"M290.34,-102.5C297.77,-102.5 306.37,-102.5 315.6,-102.5\"/>\n<polygon fill=\"black\" stroke=\"black\" points=\"315.84,-106 325.84,-102.5 315.84,-99 315.84,-106\"/>\n</g>\n<!-- 138665191019280 -->\n<g id=\"node17\" class=\"node\">\n<title>138665191019280</title>\n<polygon fill=\"none\" stroke=\"black\" points=\"2003,-27.5 2003,-63.5 2189,-63.5 2189,-27.5 2003,-27.5\"/>\n<text text-anchor=\"middle\" x=\"2013\" y=\"-41.8\" font-family=\"Times,serif\" font-size=\"14.00\"> </text>\n<polyline fill=\"none\" stroke=\"black\" points=\"2023,-27.5 2023,-63.5 \"/>\n<text text-anchor=\"middle\" x=\"2063\" y=\"-41.8\" font-family=\"Times,serif\" font-size=\"14.00\">data 6.8284</text>\n<polyline fill=\"none\" stroke=\"black\" points=\"2103,-27.5 2103,-63.5 \"/>\n<text text-anchor=\"middle\" x=\"2146\" y=\"-41.8\" font-family=\"Times,serif\" font-size=\"14.00\">grad &#45;0.1036</text>\n</g>\n<!-- 138665191019280&#45;&gt;138665191018192**&#45;1 -->\n<g id=\"edge25\" class=\"edge\">\n<title>138665191019280&#45;&gt;138665191018192**&#45;1</title>\n<path fill=\"none\" stroke=\"black\" d=\"M2189.14,-45.5C2220.72,-45.5 2254.24,-45.5 2278.74,-45.5\"/>\n<polygon fill=\"black\" stroke=\"black\" points=\"2278.98,-49 2288.98,-45.5 2278.98,-42 2278.98,-49\"/>\n</g>\n<!-- 138665191019280+&#45;&gt;138665191019280 -->\n<g id=\"edge8\" class=\"edge\">\n<title>138665191019280+&#45;&gt;138665191019280</title>\n<path fill=\"none\" stroke=\"black\" d=\"M1967.12,-45.5C1974.62,-45.5 1983.29,-45.5 1992.5,-45.5\"/>\n<polygon fill=\"black\" stroke=\"black\" points=\"1992.69,-49 2002.69,-45.5 1992.69,-42 1992.69,-49\"/>\n</g>\n<!-- 138665192218832 -->\n<g id=\"node19\" class=\"node\">\n<title>138665192218832</title>\n<polygon fill=\"none\" stroke=\"black\" points=\"2,-29.5 2,-65.5 198,-65.5 198,-29.5 2,-29.5\"/>\n<text text-anchor=\"middle\" x=\"17\" y=\"-43.8\" font-family=\"Times,serif\" font-size=\"14.00\">x1</text>\n<polyline fill=\"none\" stroke=\"black\" points=\"32,-29.5 32,-65.5 \"/>\n<text text-anchor=\"middle\" x=\"72\" y=\"-43.8\" font-family=\"Times,serif\" font-size=\"14.00\">data 2.0000</text>\n<polyline fill=\"none\" stroke=\"black\" points=\"112,-29.5 112,-65.5 \"/>\n<text text-anchor=\"middle\" x=\"155\" y=\"-43.8\" font-family=\"Times,serif\" font-size=\"14.00\">grad &#45;1.5000</text>\n</g>\n<!-- 138665192218832&#45;&gt;138665192408272* -->\n<g id=\"edge19\" class=\"edge\">\n<title>138665192218832&#45;&gt;138665192408272*</title>\n<path fill=\"none\" stroke=\"black\" d=\"M172.53,-65.56C181.84,-68.33 191.2,-71.33 200,-74.5 210.53,-78.29 221.75,-83.1 231.72,-87.67\"/>\n<polygon fill=\"black\" stroke=\"black\" points=\"230.28,-90.86 240.82,-91.93 233.25,-84.52 230.28,-90.86\"/>\n</g>\n<!-- 138665192221584 -->\n<g id=\"node20\" class=\"node\">\n<title>138665192221584</title>\n<polygon fill=\"none\" stroke=\"black\" points=\"2.5,-194.5 2.5,-230.5 197.5,-230.5 197.5,-194.5 2.5,-194.5\"/>\n<text text-anchor=\"middle\" x=\"19\" y=\"-208.8\" font-family=\"Times,serif\" font-size=\"14.00\">w2</text>\n<polyline fill=\"none\" stroke=\"black\" points=\"35.5,-194.5 35.5,-230.5 \"/>\n<text text-anchor=\"middle\" x=\"75.5\" y=\"-208.8\" font-family=\"Times,serif\" font-size=\"14.00\">data 1.0000</text>\n<polyline fill=\"none\" stroke=\"black\" points=\"115.5,-194.5 115.5,-230.5 \"/>\n<text text-anchor=\"middle\" x=\"156.5\" y=\"-208.8\" font-family=\"Times,serif\" font-size=\"14.00\">grad 0.0000</text>\n</g>\n<!-- 138665192221584&#45;&gt;138665191973584* -->\n<g id=\"edge28\" class=\"edge\">\n<title>138665192221584&#45;&gt;138665191973584*</title>\n<path fill=\"none\" stroke=\"black\" d=\"M172.53,-194.44C181.84,-191.67 191.2,-188.67 200,-185.5 210.53,-181.71 221.75,-176.9 231.72,-172.33\"/>\n<polygon fill=\"black\" stroke=\"black\" points=\"233.25,-175.48 240.82,-168.07 230.28,-169.14 233.25,-175.48\"/>\n</g>\n<!-- 138665191030032 -->\n<g id=\"node21\" class=\"node\">\n<title>138665191030032</title>\n<polygon fill=\"none\" stroke=\"black\" points=\"1690.5,-0.5 1690.5,-36.5 1876.5,-36.5 1876.5,-0.5 1690.5,-0.5\"/>\n<text text-anchor=\"middle\" x=\"1700.5\" y=\"-14.8\" font-family=\"Times,serif\" font-size=\"14.00\"> </text>\n<polyline fill=\"none\" stroke=\"black\" points=\"1710.5,-0.5 1710.5,-36.5 \"/>\n<text text-anchor=\"middle\" x=\"1750.5\" y=\"-14.8\" font-family=\"Times,serif\" font-size=\"14.00\">data 1.0000</text>\n<polyline fill=\"none\" stroke=\"black\" points=\"1790.5,-0.5 1790.5,-36.5 \"/>\n<text text-anchor=\"middle\" x=\"1833.5\" y=\"-14.8\" font-family=\"Times,serif\" font-size=\"14.00\">grad &#45;0.1036</text>\n</g>\n<!-- 138665191030032&#45;&gt;138665191019280+ -->\n<g id=\"edge23\" class=\"edge\">\n<title>138665191030032&#45;&gt;138665191019280+</title>\n<path fill=\"none\" stroke=\"black\" d=\"M1876.6,-34.6C1886.15,-36.26 1895.37,-37.88 1903.68,-39.33\"/>\n<polygon fill=\"black\" stroke=\"black\" points=\"1903.2,-42.8 1913.65,-41.07 1904.4,-35.9 1903.2,-42.8\"/>\n</g>\n<!-- 138665192214352 -->\n<g id=\"node22\" class=\"node\">\n<title>138665192214352</title>\n<polygon fill=\"none\" stroke=\"black\" points=\"4,-139.5 4,-175.5 196,-175.5 196,-139.5 4,-139.5\"/>\n<text text-anchor=\"middle\" x=\"19\" y=\"-153.8\" font-family=\"Times,serif\" font-size=\"14.00\">x2</text>\n<polyline fill=\"none\" stroke=\"black\" points=\"34,-139.5 34,-175.5 \"/>\n<text text-anchor=\"middle\" x=\"74\" y=\"-153.8\" font-family=\"Times,serif\" font-size=\"14.00\">data 0.0000</text>\n<polyline fill=\"none\" stroke=\"black\" points=\"114,-139.5 114,-175.5 \"/>\n<text text-anchor=\"middle\" x=\"155\" y=\"-153.8\" font-family=\"Times,serif\" font-size=\"14.00\">grad 0.5000</text>\n</g>\n<!-- 138665192214352&#45;&gt;138665191973584* -->\n<g id=\"edge20\" class=\"edge\">\n<title>138665192214352&#45;&gt;138665191973584*</title>\n<path fill=\"none\" stroke=\"black\" d=\"M196.05,-157.5C206.52,-157.5 216.65,-157.5 225.71,-157.5\"/>\n<polygon fill=\"black\" stroke=\"black\" points=\"225.79,-161 235.79,-157.5 225.79,-154 225.79,-161\"/>\n</g>\n<!-- 138665191975760 -->\n<g id=\"node23\" class=\"node\">\n<title>138665191975760</title>\n<polygon fill=\"none\" stroke=\"black\" points=\"2225,-82.5 2225,-118.5 2407,-118.5 2407,-82.5 2225,-82.5\"/>\n<text text-anchor=\"middle\" x=\"2235\" y=\"-96.8\" font-family=\"Times,serif\" font-size=\"14.00\"> </text>\n<polyline fill=\"none\" stroke=\"black\" points=\"2245,-82.5 2245,-118.5 \"/>\n<text text-anchor=\"middle\" x=\"2285\" y=\"-96.8\" font-family=\"Times,serif\" font-size=\"14.00\">data 4.8284</text>\n<polyline fill=\"none\" stroke=\"black\" points=\"2325,-82.5 2325,-118.5 \"/>\n<text text-anchor=\"middle\" x=\"2366\" y=\"-96.8\" font-family=\"Times,serif\" font-size=\"14.00\">grad 0.1464</text>\n</g>\n<!-- 138665191975760&#45;&gt;138665191025360* -->\n<g id=\"edge12\" class=\"edge\">\n<title>138665191975760&#45;&gt;138665191025360*</title>\n<path fill=\"none\" stroke=\"black\" d=\"M2407.04,-93.69C2485.41,-87.76 2594.98,-79.46 2650.96,-75.23\"/>\n<polygon fill=\"black\" stroke=\"black\" points=\"2651.39,-78.7 2661.1,-74.46 2650.86,-71.72 2651.39,-78.7\"/>\n</g>\n<!-- 138665191975760+&#45;&gt;138665191975760 -->\n<g id=\"edge9\" class=\"edge\">\n<title>138665191975760+&#45;&gt;138665191975760</title>\n<path fill=\"none\" stroke=\"black\" d=\"M1967,-100.5C2017.46,-100.5 2131.06,-100.5 2214.81,-100.5\"/>\n<polygon fill=\"black\" stroke=\"black\" points=\"2214.87,-104 2224.87,-100.5 2214.87,-97 2214.87,-104\"/>\n</g>\n<!-- 138665192094544 -->\n<g id=\"node25\" class=\"node\">\n<title>138665192094544</title>\n<polygon fill=\"none\" stroke=\"black\" points=\"1690,-110.5 1690,-146.5 1877,-146.5 1877,-110.5 1690,-110.5\"/>\n<text text-anchor=\"middle\" x=\"1700\" y=\"-124.8\" font-family=\"Times,serif\" font-size=\"14.00\"> </text>\n<polyline fill=\"none\" stroke=\"black\" points=\"1710,-110.5 1710,-146.5 \"/>\n<text text-anchor=\"middle\" x=\"1752.5\" y=\"-124.8\" font-family=\"Times,serif\" font-size=\"14.00\">data &#45;1.0000</text>\n<polyline fill=\"none\" stroke=\"black\" points=\"1795,-110.5 1795,-146.5 \"/>\n<text text-anchor=\"middle\" x=\"1836\" y=\"-124.8\" font-family=\"Times,serif\" font-size=\"14.00\">grad 0.1464</text>\n</g>\n<!-- 138665192094544&#45;&gt;138665191975760+ -->\n<g id=\"edge26\" class=\"edge\">\n<title>138665192094544&#45;&gt;138665191975760+</title>\n<path fill=\"none\" stroke=\"black\" d=\"M1877.05,-111.73C1886.54,-110.01 1895.71,-108.35 1903.95,-106.85\"/>\n<polygon fill=\"black\" stroke=\"black\" points=\"1904.64,-110.28 1913.85,-105.06 1903.39,-103.4 1904.64,-110.28\"/>\n</g>\n<!-- 138665191966096 -->\n<g id=\"node26\" class=\"node\">\n<title>138665191966096</title>\n<polygon fill=\"none\" stroke=\"black\" points=\"672,-111.5 672,-147.5 945,-147.5 945,-111.5 672,-111.5\"/>\n<text text-anchor=\"middle\" x=\"725\" y=\"-125.8\" font-family=\"Times,serif\" font-size=\"14.00\">x1*w1 + x2*w2</text>\n<polyline fill=\"none\" stroke=\"black\" points=\"778,-111.5 778,-147.5 \"/>\n<text text-anchor=\"middle\" x=\"820.5\" y=\"-125.8\" font-family=\"Times,serif\" font-size=\"14.00\">data &#45;6.0000</text>\n<polyline fill=\"none\" stroke=\"black\" points=\"863,-111.5 863,-147.5 \"/>\n<text text-anchor=\"middle\" x=\"904\" y=\"-125.8\" font-family=\"Times,serif\" font-size=\"14.00\">grad 0.5000</text>\n</g>\n<!-- 138665191966096&#45;&gt;138665191976592+ -->\n<g id=\"edge27\" class=\"edge\">\n<title>138665191966096&#45;&gt;138665191976592+</title>\n<path fill=\"none\" stroke=\"black\" d=\"M936.53,-111.49C949.09,-109.71 960.99,-108.02 971.3,-106.56\"/>\n<polygon fill=\"black\" stroke=\"black\" points=\"972.03,-109.99 981.44,-105.12 971.05,-103.06 972.03,-109.99\"/>\n</g>\n<!-- 138665191966096+&#45;&gt;138665191966096 -->\n<g id=\"edge10\" class=\"edge\">\n<title>138665191966096+&#45;&gt;138665191966096</title>\n<path fill=\"none\" stroke=\"black\" d=\"M636.23,-129.5C643.7,-129.5 652.41,-129.5 661.87,-129.5\"/>\n<polygon fill=\"black\" stroke=\"black\" points=\"661.98,-133 671.98,-129.5 661.98,-126 661.98,-133\"/>\n</g>\n<!-- 138665192419280 -->\n<g id=\"node28\" class=\"node\">\n<title>138665192419280</title>\n<polygon fill=\"none\" stroke=\"black\" points=\"716,-56.5 716,-92.5 901,-92.5 901,-56.5 716,-56.5\"/>\n<text text-anchor=\"middle\" x=\"727.5\" y=\"-70.8\" font-family=\"Times,serif\" font-size=\"14.00\">b</text>\n<polyline fill=\"none\" stroke=\"black\" points=\"739,-56.5 739,-92.5 \"/>\n<text text-anchor=\"middle\" x=\"779\" y=\"-70.8\" font-family=\"Times,serif\" font-size=\"14.00\">data 6.8814</text>\n<polyline fill=\"none\" stroke=\"black\" points=\"819,-56.5 819,-92.5 \"/>\n<text text-anchor=\"middle\" x=\"860\" y=\"-70.8\" font-family=\"Times,serif\" font-size=\"14.00\">grad 0.5000</text>\n</g>\n<!-- 138665192419280&#45;&gt;138665191976592+ -->\n<g id=\"edge11\" class=\"edge\">\n<title>138665192419280&#45;&gt;138665191976592+</title>\n<path fill=\"none\" stroke=\"black\" d=\"M901.02,-87.01C926,-90.43 951.59,-93.93 971.37,-96.63\"/>\n<polygon fill=\"black\" stroke=\"black\" points=\"971.05,-100.12 981.43,-98.01 972,-93.18 971.05,-100.12\"/>\n</g>\n</g>\n</svg>\n",
            "text/plain": [
              "<graphviz.graphs.Digraph at 0x7e1d81856a90>"
            ]
          },
          "metadata": {},
          "execution_count": 38
        }
      ]
    },
    {
      "cell_type": "code",
      "source": [
        "import torch\n"
      ],
      "metadata": {
        "id": "b7NZFHZiQ1Cg"
      },
      "execution_count": null,
      "outputs": []
    },
    {
      "cell_type": "code",
      "source": [
        "x1 = torch.Tensor([2.0]).double()                    ; x1.requires_grad = True\n",
        "x2 = torch.tensor([0.0]).double()                    ; x2.requires_grad = True\n",
        "w1 = torch.Tensor([-3.0]).double()                   ; w1.requires_grad = True\n",
        "w2 = torch.tensor([1.0]).double()                    ; w2.requires_grad = True\n",
        "b = torch.tensor([6.8813735870195432]).double()      ;  b.requires_grad = True\n",
        "n = x1*w1 + x2*w2 + b\n",
        "o = torch.tanh(n)\n",
        "print(o.data.item())\n",
        "o.backward()\n",
        "\n",
        "print('---')\n",
        "print(x1.grad.item())\n",
        "print(x2.grad.item())\n",
        "print(w1.grad.item())\n",
        "print(w2.grad.item())"
      ],
      "metadata": {
        "colab": {
          "base_uri": "https://localhost:8080/"
        },
        "id": "UnnEXUr9Q_-I",
        "outputId": "8c836c66-f328-44aa-aed2-38555bfd8ee4"
      },
      "execution_count": null,
      "outputs": [
        {
          "output_type": "stream",
          "name": "stdout",
          "text": [
            "0.7071066904050358\n",
            "---\n",
            "-1.5000003851533106\n",
            "0.5000001283844369\n",
            "1.0000002567688737\n",
            "0.0\n"
          ]
        }
      ]
    },
    {
      "cell_type": "code",
      "source": [
        "import random\n",
        "from random import uniform\n",
        "import math\n",
        "\n",
        "class Neuron:\n",
        "  def __init__(self, nin):\n",
        "    self.w = []\n",
        "    for _ in range(nin):\n",
        "      weight = Value(random.uniform(-1,1))\n",
        "      self.w.append(weight)\n",
        "\n",
        "    self.b = Value(random.uniform(-1, 1))\n",
        "\n",
        "  def __call__(self, x):\n",
        "    act = self.b\n",
        "    for wi, xi in zip(self.w, x):\n",
        "      act += wi*xi\n",
        "\n",
        "    out = act.tanh()\n",
        "    return out\n",
        "\n",
        "  def parameters(self):\n",
        "    return self.w + [self.b]\n",
        "\n",
        "class Layer:\n",
        "  def __init__(self, nin, nout):\n",
        "    self.neurons = []\n",
        "    for _ in range(nout):\n",
        "      neuron = Neuron(nin)\n",
        "      self.neurons.append(neuron)\n",
        "\n",
        "  def __call__(self, x):\n",
        "    outputs = []\n",
        "    for neuron in self.neurons:\n",
        "      out = neuron(x)\n",
        "      outputs.append(out)\n",
        "\n",
        "    if len(outputs) == 1:\n",
        "      return outputs[0]\n",
        "    return outputs\n",
        "\n",
        "  def parameters(self):\n",
        "    all_params = []\n",
        "    for neuron in self.neurons:\n",
        "      all_params.extend(neuron.parameters())\n",
        "    return all_params\n",
        "\n",
        "class MLP:\n",
        "  def __init__(self, nin, nouts):\n",
        "    sz = [nin] + nouts\n",
        "    self.layers = []\n",
        "    for i in range(len(nouts)):\n",
        "      layer = Layer(sz[i], sz[i+1])\n",
        "      self.layers.append(layer)\n",
        "\n",
        "  def __call__(self, x):\n",
        "    for layer in self.layers:\n",
        "      x = layer(x)\n",
        "    return x\n",
        "\n",
        "  def parameters(self):\n",
        "    all_params = []\n",
        "    for layer in self.layers:\n",
        "      all_params.extend(layer.parameters())\n",
        "    return all_params"
      ],
      "metadata": {
        "id": "TG1J1Q1EZSRn"
      },
      "execution_count": null,
      "outputs": []
    },
    {
      "cell_type": "code",
      "source": [
        "x = [2.0, 3.0, -1.0]\n",
        "n = MLP(3, [4, 4, 1])\n",
        "n(x)"
      ],
      "metadata": {
        "colab": {
          "base_uri": "https://localhost:8080/"
        },
        "id": "6akE-PrAYBpW",
        "outputId": "8e0d4e6c-b619-4cb0-9419-14bee47797f7"
      },
      "execution_count": null,
      "outputs": [
        {
          "output_type": "execute_result",
          "data": {
            "text/plain": [
              "Value(data=0.34008590938081507)"
            ]
          },
          "metadata": {},
          "execution_count": 24
        }
      ]
    },
    {
      "cell_type": "code",
      "source": [
        "xs = [[2.0, 3.0, -1],\n",
        "      [3.0, -1.0, 0.5],\n",
        "      [0.5, 1.0, 1.0],\n",
        "      [1.0, 1.0, -1.0]]\n",
        "\n",
        "ys = [-1.0, 1.0, 1.0, -1.00]"
      ],
      "metadata": {
        "id": "ZRCPCvtOcmNq"
      },
      "execution_count": null,
      "outputs": []
    },
    {
      "cell_type": "code",
      "source": [
        "for k in range(30):\n",
        "  ypred = []\n",
        "  for x in xs:\n",
        "    y = n(x)\n",
        "    ypred.append(y)\n",
        "\n",
        "  loss = 0\n",
        "  for ygt, yout in zip(ys, ypred):\n",
        "    diff = yout - ygt\n",
        "    loss = loss + diff**2\n",
        "\n",
        "  for p in n.parameters():\n",
        "    p.grad = 0.0\n",
        "\n",
        "  loss.backward()\n",
        "\n",
        "  for p in n.parameters():\n",
        "    p.data = p.data - 0.1*p.grad\n",
        "\n",
        "  print(k, loss.data)\n"
      ],
      "metadata": {
        "colab": {
          "base_uri": "https://localhost:8080/"
        },
        "id": "qzGEn7wfcihS",
        "outputId": "96b32dd2-a75c-410d-fdbd-50e4082a394f"
      },
      "execution_count": null,
      "outputs": [
        {
          "output_type": "stream",
          "name": "stdout",
          "text": [
            "0 0.01471938944171387\n",
            "1 0.014061413147036295\n",
            "2 0.013459275263382517\n",
            "3 0.012906054336119905\n",
            "4 0.012395947914436059\n",
            "5 0.011924051522862227\n",
            "6 0.011486188719464257\n",
            "7 0.011078778839018559\n",
            "8 0.01069873292131838\n",
            "9 0.010343370986932917\n",
            "10 0.010010355669515816\n",
            "11 0.009697638514554404\n",
            "12 0.009403416183642762\n",
            "13 0.009126094475780819\n",
            "14 0.008864258569693901\n",
            "15 0.00861664825593364\n",
            "16 0.00838213720051299\n",
            "17 0.008159715488131235\n",
            "18 0.007948474850373626\n",
            "19 0.007747596105275716\n",
            "20 0.00755633842845912\n",
            "21 0.007374030149329823\n",
            "22 0.007200060823483054\n",
            "23 0.007033874378118778\n",
            "24 0.006874963163661799\n",
            "25 0.0067228627739576744\n",
            "26 0.0065771475209393995\n",
            "27 0.006437426468732608\n",
            "28 0.0063033399477042135\n",
            "29 0.0061745564816832205\n"
          ]
        }
      ]
    },
    {
      "cell_type": "code",
      "source": [
        "ypred"
      ],
      "metadata": {
        "colab": {
          "base_uri": "https://localhost:8080/"
        },
        "id": "BprhgDe4ei2Q",
        "outputId": "ab04a1c3-901b-4e03-c888-a6a874a2ed82"
      },
      "execution_count": null,
      "outputs": [
        {
          "output_type": "execute_result",
          "data": {
            "text/plain": [
              "[Value(data=-0.9605692423258106),\n",
              " Value(data=0.9735443160532261),\n",
              " Value(data=0.954223769401379),\n",
              " Value(data=-0.9572869419262345)]"
            ]
          },
          "metadata": {},
          "execution_count": 30
        }
      ]
    }
  ]
}